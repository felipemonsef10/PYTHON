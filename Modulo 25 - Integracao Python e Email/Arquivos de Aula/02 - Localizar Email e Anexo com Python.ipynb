{
 "cells": [
  {
   "cell_type": "code",
   "execution_count": null,
   "id": "7b425da8",
   "metadata": {},
   "outputs": [],
   "source": [
    "from imap_tools import MailBox, AND\n",
    "# from senha_email import minha_senha\n",
    "\n",
    "usuario = \"pikatofly17@gmail.com\"\n",
    "senha = \"thaissk8\"\n",
    "\n",
    "meu_email = MailBox(\"imap.gmail.com\").login(usuario, senha)"
   ]
  },
  {
   "cell_type": "code",
   "execution_count": null,
   "id": "ebee7f0f",
   "metadata": {},
   "outputs": [],
   "source": [
    "# pegar email que foram enviados por um remetente específico\n",
    "\n",
    "lista_emails = meu_email.fetch(AND(from_=\"pythonimpressionador@gmail.com\", to=\"pythonimpressionador+diretoria@gmail.com\"))\n",
    "for email in lista_emails:\n",
    "    print(email.subject)\n",
    "    print(email.text)"
   ]
  },
  {
   "cell_type": "code",
   "execution_count": null,
   "id": "24573987",
   "metadata": {},
   "outputs": [],
   "source": [
    "# pegar anexo de um email\n",
    "lista_emails = meu_email.fetch(AND(from_=\"pythonimpressionador@gmail.com\"))\n",
    "for email in lista_emails:\n",
    "    if len(email.attachments) > 0:\n",
    "        for anexo in email.attachments:\n",
    "            if \"RelatorioExcel\" in anexo.filename:\n",
    "                informacoes_anexo = anexo.payload\n",
    "                with open(\"RelatorioExcel.xlsx\", \"wb\") as arquivo_excel:\n",
    "                    arquivo_excel.write(informacoes_anexo)"
   ]
  }
 ],
 "metadata": {
  "kernelspec": {
   "display_name": "Python 3",
   "language": "python",
   "name": "python3"
  },
  "language_info": {
   "codemirror_mode": {
    "name": "ipython",
    "version": 3
   },
   "file_extension": ".py",
   "mimetype": "text/x-python",
   "name": "python",
   "nbconvert_exporter": "python",
   "pygments_lexer": "ipython3",
   "version": "3.10.10"
  }
 },
 "nbformat": 4,
 "nbformat_minor": 5
}
