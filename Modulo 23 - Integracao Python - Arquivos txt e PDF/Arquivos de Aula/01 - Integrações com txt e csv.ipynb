{
 "cells": [
  {
   "cell_type": "markdown",
   "metadata": {},
   "source": [
    "# Integração do Python com Arquivos txt\n",
    "\n",
    "Como quase tudo no Python, existem várias formas de ler um arquivo no Python.\n",
    "\n",
    "Aprendemos em módulos passadas a ler arquivos em Excel ou csv com o Pandas, minha recomendação é que, sempre que possível, use o pandas para isso porque ele é um módulo feito para análise de dados e tem muita coisa pronta dentro dele.\n",
    "\n",
    "Caso queira ler um arquivo txt simplesmente ou escrever um, vamos ver agora como fazer.\n",
    "\n",
    "### Estrutura:"
   ]
  },
  {
   "cell_type": "raw",
   "metadata": {},
   "source": [
    "1. Método open: -> Abre um arquivo txt\n",
    "\n",
    "arquivo = open('NomeArquivo.txt', 'r')\n",
    "\n",
    "Usamos 'r' para abrir o arquivo para ler (read) e 'w' quando estamos abrindo o arquivo para escrever (write) ou 'a' se formos adicionar (append) uma informação no arquivo"
   ]
  },
  {
   "cell_type": "markdown",
   "metadata": {},
   "source": [
    "- Com o arquivo aberto, agora podemos efetivamente ler o arquivo com os métodos:"
   ]
  },
  {
   "cell_type": "raw",
   "metadata": {},
   "source": [
    "2. Método read():\n",
    "\n",
    "texto_arquivo = arquivo.read()\n",
    "\n",
    "3. Método readlines():\n",
    "\n",
    "lista_linhas = arquivo.readlines()"
   ]
  },
  {
   "cell_type": "markdown",
   "metadata": {},
   "source": [
    "- Para escrever alguma coisa no arquivo teremos o método write:"
   ]
  },
  {
   "cell_type": "raw",
   "metadata": {},
   "source": [
    "4. Método write():\n",
    "\n",
    "arquivo.write('Texto que quero escrever')"
   ]
  },
  {
   "cell_type": "markdown",
   "metadata": {},
   "source": [
    "- Obs: Quando você abre um arquivo, ele permanece aberto no Python até você fechar. Existem 2 formas de fazer isso:"
   ]
  },
  {
   "cell_type": "raw",
   "metadata": {},
   "source": [
    "5. Método close():\n",
    "\n",
    "arquivo.close()\n",
    "\n",
    "6. Usando a estrutura with: -> ao final do with, a própria estrutura with fecha automaticamente o arquivo\n",
    "\n",
    "with open('NomeArquivo.txt', 'w') as arquivo:\n",
    "    arquivo.write()\n",
    "    ..."
   ]
  },
  {
   "cell_type": "code",
   "execution_count": null,
   "metadata": {},
   "outputs": [],
   "source": [
    "arquivo = open('Alunos.txt', 'r')\n",
    "\n",
    "# print(arquivo.read())\n",
    "print(arquivo.readlines())\n",
    "\n",
    "arquivo.close()"
   ]
  },
  {
   "cell_type": "code",
   "execution_count": null,
   "metadata": {},
   "outputs": [],
   "source": [
    "novo_arquivo = open('Resumo.txt', 'w')\n",
    "\n",
    "novo_arquivo.write(\n",
    "\"\"\"Olá\n",
    "tudo bem\\n\"\"\")\n",
    "novo_arquivo.write('Terceira linha\\n')\n",
    "novo_arquivo.write('Quarta linha')\n",
    "\n",
    "novo_arquivo.close()"
   ]
  },
  {
   "cell_type": "code",
   "execution_count": null,
   "metadata": {},
   "outputs": [],
   "source": [
    "with open('Resumo2.txt', 'w') as novo_arquivo2:\n",
    "    novo_arquivo2.write('Ola\\n')\n",
    "    novo_arquivo2.write('Segunda linha')\n",
    "\n",
    "print('Fim do codigo')"
   ]
  },
  {
   "cell_type": "markdown",
   "metadata": {},
   "source": [
    "### Desafio onde vamos aprender:\n",
    "\n",
    "- Na Hashtag, sempre analisamos o nosso \"Funil de Vendas\". Para isso, rastreamos de onde veio os alunos por meio de um código, do tipo:\n",
    "    - hashtag_site_org -> Pessoas que vieram pelo site da Hashtag\n",
    "    - hashtag_yt_org -> Pessoas que vieram pelo Youtube da Hashtag\n",
    "    - hashtag_ig_org -> Pessoas que vieram pelo Instagram da Hashtag\n",
    "    - hashtag_igfb_org -> Pessoas que vieram pelo Instagram ou Facebook da Hashtag\n",
    "\n",
    "Os códigos diferentes disso, são códigos de anúncio da Hashtag.\n",
    "\n",
    "- Queremos analisar quantos alunos vieram de anúncio e quantos vieram \"orgânico\".\n",
    "- Qual a melhor fonte \"orgânica\" de alunos\n",
    "\n",
    "Obs: orgânico é tudo aquilo que não veio de anúncios.\n",
    "\n",
    "No nosso sistema, conseguimos exportar um txt com as informações dos alunos, conforme o arquivo Alunos.txt<br>\n",
    "(Os dados foram gerados aleatoriamente para simular uma situação real, já que não podemos fornecer os dados reais dos alunos por questões de segurança)\n",
    "\n",
    "- No final, para treinar, vamos escrever todas essas respostas em um novo arquivo txt"
   ]
  },
  {
   "cell_type": "code",
   "execution_count": null,
   "metadata": {},
   "outputs": [],
   "source": [
    "qtd_organicos = 0\n",
    "qtd_anuncio = 0\n",
    "\n",
    "qtd_igfb = 0\n",
    "qtd_site = 0\n",
    "qtd_yt = 0\n",
    "\n",
    "\n",
    "with open('Alunos.txt', 'r') as arquivos_alunos:\n",
    "    for aluno in arquivos_alunos.readlines()[4:]:\n",
    "        email, origem = aluno.split(',')\n",
    "\n",
    "        if '_org' in origem:\n",
    "            qtd_organicos += 1\n",
    "            if 'hashtag_yt_org' in origem:\n",
    "                qtd_yt += 1\n",
    "            if 'hashtag_site_org' in origem:\n",
    "                qtd_site += 1\n",
    "            if 'hashtag_ig_org' in origem or 'hashtag_igfb_org' in origem:\n",
    "                qtd_igfb += 1\n",
    "\n",
    "\n",
    "        else:\n",
    "            qtd_anuncio += 1\n",
    "            \n",
    "    \n",
    "print(f'Quantidade Orgânicos: {qtd_organicos}')\n",
    "print(f'Quantidade Anúncio: {qtd_anuncio}')\n",
    "\n",
    "print(f'Quantidade Instagram ou Facebook: {qtd_igfb}') \n",
    "print(f'Quantidade Site: {qtd_site}') \n",
    "print(f'Quantidade YouTube: {qtd_yt}')"
   ]
  },
  {
   "cell_type": "code",
   "execution_count": null,
   "metadata": {},
   "outputs": [],
   "source": [
    "with open('Indicadores Códigos.txt', 'w') as arquivo:\n",
    "    arquivo.write(f'Quantidade Orgânicos: {qtd_organicos}\\n')\n",
    "    arquivo.write(f'Quantidade Anúncio: {qtd_anuncio}\\n')\n",
    "    arquivo.write(f'Quantidade Instagram ou Facebook: {qtd_igfb}\\n')\n",
    "    arquivo.write(f'Quantidade Site: {qtd_site}\\n')\n",
    "    arquivo.write(f'Quantidade YouTube: {qtd_yt}')\n",
    "\n",
    "arquivo = open(\"Indicadores Códigos.txt\", 'r')\n",
    "\n",
    "print(arquivo.read())\n",
    "\n",
    "arquivo.close()"
   ]
  }
 ],
 "metadata": {
  "kernelspec": {
   "display_name": "Python 3",
   "language": "python",
   "name": "python3"
  },
  "language_info": {
   "codemirror_mode": {
    "name": "ipython",
    "version": 3
   },
   "file_extension": ".py",
   "mimetype": "text/x-python",
   "name": "python",
   "nbconvert_exporter": "python",
   "pygments_lexer": "ipython3",
   "version": "3.10.10"
  }
 },
 "nbformat": 4,
 "nbformat_minor": 4
}
