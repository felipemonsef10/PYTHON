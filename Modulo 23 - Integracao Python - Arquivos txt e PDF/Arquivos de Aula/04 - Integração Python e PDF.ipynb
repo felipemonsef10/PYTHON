{
 "cells": [
  {
   "cell_type": "markdown",
   "metadata": {},
   "source": [
    "# Vamos aprender a trabalhar com PDF usando o Python\n",
    "\n",
    "- Regra geral: PDF foi feito justamente para bloquear muita coisa, então não é fácil \"brincar\" com um pdf\n",
    "- Mesmo assim, Python tem várias bibliotecas que vão nos ajudar, vamos focar em 2:\n",
    "    - PyPDF2\n",
    "    - Tabula\n",
    "- Ler e extrair informações de um PDF a gente consegue fazer.\n",
    "- Escrever e Editar, aí já é outra história\n",
    "\n",
    "### Para os nossos exemplos, vamos avaliar o Release de Resultados do 3º e 4º Trimestre de 2020 da Magazine Luiza"
   ]
  },
  {
   "cell_type": "markdown",
   "metadata": {},
   "source": [
    "#### 1º Objetivo: Queremos conseguir separar apenas o DRE do Release de Resultados (Página 14) para enviar para a Diretoria, como fazemos?\n",
    "    - Separar as páginas de um pdf"
   ]
  },
  {
   "cell_type": "code",
   "execution_count": null,
   "metadata": {},
   "outputs": [],
   "source": [
    "import PyPDF2 as pyf\n",
    "from pathlib import Path\n",
    "\n",
    "nome = '04 - MGLU_ER_3T20_POR.pdf'\n",
    "arquivo_pdf = pyf.PdfReader(nome)\n",
    "\n",
    "for index, pagina in enumerate(arquivo_pdf.pages):\n",
    "    num_pagina = index + 1\n",
    "\n",
    "    novo_pdf = pyf.PdfWriter()\n",
    "    novo_pdf.add_page(pagina)\n",
    "\n",
    "    with Path(fr'paginas/Arquivo Pagina {num_pagina}.pdf').open(mode='wb') as arquivo:\n",
    "        novo_pdf.write(arquivo)"
   ]
  },
  {
   "cell_type": "markdown",
   "metadata": {},
   "source": [
    "#### 2º Objetivo: Com o Release de Resultados já separado página por página, queremos incluir apenas as Páginas de Destaque (Página 1), DRE (Página 14) e Balanço (Página 16).\n",
    "    - Juntar vários pdfs em 1"
   ]
  },
  {
   "cell_type": "code",
   "execution_count": null,
   "metadata": {},
   "outputs": [],
   "source": [
    "num_paginas = [1, 14, 16]\n",
    "novo_arquivo = pyf.PdfWriter()\n",
    "\n",
    "for num in num_paginas:\n",
    "    pagina_pdf = pyf.PdfReader(f'paginas\\Arquivo Pagina {num}.pdf')\n",
    "    novo_arquivo.add_page(pagina_pdf.pages[0])\n",
    "\n",
    "with Path(fr'04 - Consolidado.pdf').open(mode='wb') as arquivo:\n",
    "    novo_arquivo.write(arquivo)"
   ]
  },
  {
   "cell_type": "markdown",
   "metadata": {},
   "source": [
    "### Extra: Para adicionar todas as páginas de 2 pdfs"
   ]
  },
  {
   "cell_type": "code",
   "execution_count": null,
   "metadata": {},
   "outputs": [],
   "source": [
    "pdf_mesclado = pyf.PdfMerger()\n",
    "\n",
    "pdf_mesclado.append('04 - MGLU_ER_3T20_POR.pdf')\n",
    "pdf_mesclado.append('04 - MGLU_ER_4T20_POR.pdf')\n",
    "\n",
    "with Path(fr'04 - Mesclado.pdf').open(mode='wb') as arquivo:\n",
    "    pdf_mesclado.write(arquivo)"
   ]
  },
  {
   "cell_type": "markdown",
   "metadata": {},
   "source": [
    "# Funcionalidades que podem ser úteis:\n",
    "\n",
    "- Inserir arquivo no meio do outro\n",
    "- Quero colocar dentro do Resultado do 4T20 os destaques do 3T20 para poder comparar os 2 dentro do mesmo relatório"
   ]
  },
  {
   "cell_type": "code",
   "execution_count": null,
   "metadata": {},
   "outputs": [],
   "source": [
    "pdf_mesclado = pyf.PdfMerger()\n",
    "\n",
    "pdf_mesclado.append(\"04 - MGLU_ER_4T20_POR.pdf\")\n",
    "pdf_mesclado.merge(1, 'paginas/Arquivo Pagina 1.pdf')\n",
    "\n",
    "with Path('04 - Relatorio 2 Trimestres.pdf').open('wb') as arquivo:\n",
    "    pdf_mesclado.write(arquivo)"
   ]
  },
  {
   "cell_type": "markdown",
   "metadata": {},
   "source": [
    "- Rodar Página"
   ]
  },
  {
   "cell_type": "code",
   "execution_count": null,
   "metadata": {},
   "outputs": [],
   "source": [
    "arquivo_pdf_original = pyf.PdfReader(\"04 - MGLU_ER_3T20_POR.pdf\")\n",
    "\n",
    "novo_arquivo = pyf.PdfWriter()\n",
    "\n",
    "for pagina in arquivo_pdf_original.pages:\n",
    "    pagina.rotate(90)\n",
    "    novo_arquivo.add_page(pagina)\n",
    "\n",
    "with Path('04 - Paginas Rotacionadas.pdf').open('wb') as arquivo:\n",
    "    novo_arquivo.write(arquivo)"
   ]
  },
  {
   "cell_type": "markdown",
   "metadata": {},
   "source": [
    "# Trabalhando com Textos e Informações Dentro do PDF\n",
    "\n",
    "#### 1º Objetivo: Quero identificar como foram as Despesas com Vendas da MGLU\n",
    "    - Pegar texto da página e identificar onde está essa informação"
   ]
  },
  {
   "cell_type": "code",
   "execution_count": null,
   "metadata": {},
   "outputs": [],
   "source": [
    "arquivo = pyf.PdfReader(\"04 - MGLU_ER_3T20_POR.pdf\")\n",
    "\n",
    "qtd_paginas = len(arquivo.pages)\n",
    "\n",
    "metadados = arquivo.metadata\n",
    "print(metadados)"
   ]
  },
  {
   "cell_type": "code",
   "execution_count": null,
   "metadata": {},
   "outputs": [],
   "source": [
    "texto_referencia = '| Despesas com Vendas'\n",
    "\n",
    "for i, pagina in enumerate(arquivo.pages):\n",
    "    texto_pagina = pagina.extract_text()\n",
    "    if texto_referencia in texto_pagina:\n",
    "        texto_analisar = texto_pagina\n",
    "\n",
    "print(texto_analisar)"
   ]
  },
  {
   "cell_type": "code",
   "execution_count": null,
   "metadata": {},
   "outputs": [],
   "source": [
    "posicao_inicial = texto_analisar.find(texto_referencia)\n",
    "posicao_final = texto_analisar.find('|', posicao_inicial + 1)\n",
    "\n",
    "texto_analisar[posicao_inicial:posicao_final]\n",
    "print(texto_analisar)\n",
    "\n"
   ]
  },
  {
   "cell_type": "markdown",
   "metadata": {},
   "source": [
    "#### 2º Objetivo: Quero analisar o DRE (sem ajuste - Página 5)\n",
    "    - Para ler tabelas em pdf, use o tabula (é ninja)\n",
    "    \n",
    "    - Cuidado 1: Instale o tabula-py (não instale o tabula). Se instalar o tabula errado, desinstale ele, instale o tabula-py, desinstale o tabula-py e instale novamente o tabula-py. Reinicie o kernel do Jupyter após isso\n",
    "    \n",
    "    - Cuidado 2: Tem que ter o java instalado no seu computador (depois de instalar, reinicie o computador)"
   ]
  },
  {
   "cell_type": "code",
   "execution_count": null,
   "metadata": {},
   "outputs": [],
   "source": [
    "import tabula\n",
    "\n",
    "tabelas = tabula.read_pdf(\"04 - MGLU_ER_3T20_POR.pdf\", pages=5, encoding='cp1252', guess=False)\n",
    "\n",
    "df_resultado = tabelas[0]\n",
    "df_resultado = df_resultado.dropna(how='all', axis=0)\n",
    "df_resultado = df_resultado.dropna(how='all', axis=1)\n",
    "df_resultado.columns = df_resultado.iloc[0]\n",
    "df_resultado = df_resultado.iloc[1:]\n",
    "df_resultado"
   ]
  },
  {
   "cell_type": "markdown",
   "metadata": {},
   "source": [
    "#### 3º Objetivo: Quero analisar o Capital de Giro e os Investimentos (ambas as tabelas na página 12)\n",
    "    - Páginas com mais de 1 tabela"
   ]
  },
  {
   "cell_type": "code",
   "execution_count": null,
   "metadata": {},
   "outputs": [],
   "source": [
    "tabelas = tabula.read_pdf(\"04 - MGLU_ER_3T20_POR.pdf\", pages=12)\n",
    "for tabela in tabelas:\n",
    "    tabela = tabela.dropna(how='all', axis=0)\n",
    "    tabela = tabela.reset_index(drop=True)\n",
    "    display(tabela)"
   ]
  },
  {
   "cell_type": "markdown",
   "metadata": {},
   "source": [
    "#### O que fazer quando o tabula não consegue ler alguma linha da tabela? Como o cabeçalho, no nosso caso?"
   ]
  },
  {
   "cell_type": "code",
   "execution_count": null,
   "metadata": {},
   "outputs": [],
   "source": [
    "df_capital_giro = tabelas[0]\n",
    "df_capital_giro = df_capital_giro.dropna(how='all', axis=0)\n",
    "df_capital_giro = df_capital_giro.reset_index(drop=True)\n",
    "\n",
    "tabelas2 = tabula.read_pdf(\"04 - MGLU_ER_3T20_POR.pdf\", pages=12, lattice=True)\n",
    "df_capital_giro2 = tabelas2[0]\n",
    "df_capital_giro2 = df_capital_giro2.dropna(how='all', axis=0)\n",
    "df_capital_giro2 = df_capital_giro2.dropna(how='all', axis=1)\n",
    "df_capital_giro2 = df_capital_giro2.reset_index(drop=True)\n",
    "colunas = df_capital_giro2.iloc[0]\n",
    "colunas = colunas.dropna()\n",
    "df_capital_giro.columns = colunas\n",
    "display(df_capital_giro)"
   ]
  },
  {
   "cell_type": "markdown",
   "metadata": {},
   "source": [
    "# Outro método que pode ser útil algum dia: Captar Imagem em um pdf\n",
    "    - biblioteca pikepdf"
   ]
  },
  {
   "cell_type": "code",
   "execution_count": 4,
   "metadata": {},
   "outputs": [],
   "source": [
    "from pikepdf import Pdf, PdfImage\n",
    "\n",
    "arquivo = Pdf.open(\"04 - MGLU_ER_3T20_POR.pdf\")\n",
    "\n",
    "for pagina in arquivo.pages:\n",
    "    for nome, imagem in pagina.images.items():\n",
    "        imagem_salvar = PdfImage(imagem)\n",
    "        imagem_salvar.extract_to(fileprefix=f'imagens/{nome}')"
   ]
  },
  {
   "cell_type": "markdown",
   "metadata": {},
   "source": [
    "# Substituir texto no pdf tipo contrato\n",
    "\n",
    "- Não recomendo fazer diretamente pelo Python. Realmente do que vi a melhor opção me parece o Word fazer isso\n",
    "- Caso precise automatizar, automatize o processo fazendo ele pelo Word\n",
    "- Quem quiser MUITO fazer isso pelo Python, tem um link aqui que vai te ajudar de uma solução que achei que funciona. Tem seus bugs/cuidados especiais, mas funciona: https://pdf.co/samples/pdf-co-web-api-replace-text-from-pdf-python-replace-text-from-url"
   ]
  }
 ],
 "metadata": {
  "kernelspec": {
   "display_name": "Python 3 (ipykernel)",
   "language": "python",
   "name": "python3"
  },
  "language_info": {
   "codemirror_mode": {
    "name": "ipython",
    "version": 3
   },
   "file_extension": ".py",
   "mimetype": "text/x-python",
   "name": "python",
   "nbconvert_exporter": "python",
   "pygments_lexer": "ipython3",
   "version": "3.10.10"
  }
 },
 "nbformat": 4,
 "nbformat_minor": 4
}
