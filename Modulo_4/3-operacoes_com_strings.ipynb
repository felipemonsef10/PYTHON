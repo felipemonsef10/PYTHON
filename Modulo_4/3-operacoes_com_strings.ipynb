{
 "cells": [
  {
   "cell_type": "code",
   "execution_count": 9,
   "metadata": {},
   "outputs": [
    {
     "name": "stdout",
     "output_type": "stream",
     "text": [
      "meu nome é Felipe\n",
      "--------------------\n",
      "True\n",
      "False\n",
      "False\n",
      "True\n"
     ]
    }
   ],
   "source": [
    "print('meu nome é' + ' ' + 'Felipe') # -> concatenar\n",
    "print('-' * 20)\n",
    "\n",
    "print('nome' in  'nome')\n",
    "print('nome' in 'felipe')\n",
    "\n",
    "print('nome' not in 'nome')\n",
    "print('nome' not in 'felipe')\n",
    "\n",
    "\n"
   ]
  }
 ],
 "metadata": {
  "kernelspec": {
   "display_name": "Python 3",
   "language": "python",
   "name": "python3"
  },
  "language_info": {
   "codemirror_mode": {
    "name": "ipython",
    "version": 3
   },
   "file_extension": ".py",
   "mimetype": "text/x-python",
   "name": "python",
   "nbconvert_exporter": "python",
   "pygments_lexer": "ipython3",
   "version": "3.10.10"
  }
 },
 "nbformat": 4,
 "nbformat_minor": 2
}
