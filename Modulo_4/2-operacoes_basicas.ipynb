{
 "cells": [
  {
   "cell_type": "markdown",
   "metadata": {},
   "source": [
    "### Operações matemáticas."
   ]
  },
  {
   "cell_type": "code",
   "execution_count": null,
   "metadata": {},
   "outputs": [],
   "source": [
    "print(1 + 1)  # -> soma\n",
    "print(1 - 1)  # -> subtração \n",
    "print(2 * 3)  # -> multiplicação\n",
    "print(4 / 2)  # -> divisão\n",
    "print(2 ** 3) # -> potenciação\n",
    "print(7 % 3)  # -> mod (resto da divisão)\n",
    "print(7 // 3) # -> div (divisão inteira)"
   ]
  },
  {
   "cell_type": "markdown",
   "metadata": {},
   "source": [
    "### Ordem das operações (MESMA RÉGRA PARA AS OPERAÇÕES MATEMÁTICAS)"
   ]
  },
  {
   "cell_type": "code",
   "execution_count": 9,
   "metadata": {},
   "outputs": [
    {
     "name": "stdout",
     "output_type": "stream",
     "text": [
      "1.666666666666667\n"
     ]
    }
   ],
   "source": [
    "print(1 + 2 * 4 - 4  / 3 - (3 + 3))"
   ]
  }
 ],
 "metadata": {
  "kernelspec": {
   "display_name": "Python 3",
   "language": "python",
   "name": "python3"
  },
  "language_info": {
   "codemirror_mode": {
    "name": "ipython",
    "version": 3
   },
   "file_extension": ".py",
   "mimetype": "text/x-python",
   "name": "python",
   "nbconvert_exporter": "python",
   "pygments_lexer": "ipython3",
   "version": "3.10.10"
  }
 },
 "nbformat": 4,
 "nbformat_minor": 2
}
