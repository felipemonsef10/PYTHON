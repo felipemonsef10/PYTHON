{
 "cells": [
  {
   "cell_type": "markdown",
   "id": "a2fee89b",
   "metadata": {},
   "source": [
    "### Forma de pensar"
   ]
  },
  {
   "cell_type": "code",
   "execution_count": 2,
   "id": "1be9db7d",
   "metadata": {},
   "outputs": [],
   "source": [
    "# coisas simples: atravessar a rua (mostrar os diferentes níveis de abstração que dá para fazer)\n",
    "    # olho para os 2 lados\n",
    "        # olha para a direita e veja se vem carro\n",
    "        # olha para a esquerda e veja se vem carro\n",
    "        # se não vier carro\n",
    "            # atravessa\n",
    "                # ficar de frente para a rua\n",
    "                # andar até o outro lado\n",
    "\n",
    "# tomar café da manhã (mostrar os diferentes níveis de abstração que dá para fazer)\n",
    "    # comer mingau\n",
    "        # fazer o mingau\n",
    "            # acender o fogo\n",
    "            # colocar a panela\n",
    "            # colocar aveia \n",
    "            # colocar leite\n",
    "            # colocar whey\n",
    "            # misturar até engrossar\n",
    "        # comer o mingau\n",
    "            # pegar uma colher\n",
    "            # comer\n",
    "    # beber café\n",
    "\n",
    "# Shampoo (pegar um shampoo aqui de casa e ler)"
   ]
  },
  {
   "cell_type": "markdown",
   "id": "672e10e0",
   "metadata": {},
   "source": [
    "### Exemplo de Exercício do Curso"
   ]
  },
  {
   "cell_type": "markdown",
   "id": "fee80189",
   "metadata": {},
   "source": [
    "#### 23. Faça um Programa para uma loja de tintas. O programa deverá pedir o tamanho em metros quadrados da área a ser pintada. Considere que a cobertura da tinta é de 1 litro para cada 6 metros quadrados e que a tinta é vendida em latas de 18 litros, que custam R\\\\$ 80,00 ou em galões de 3,6 litros, que custam R\\\\$ 25,00."
   ]
  },
  {
   "cell_type": "code",
   "execution_count": 33,
   "id": "785329be",
   "metadata": {},
   "outputs": [
    {
     "name": "stdout",
     "output_type": "stream",
     "text": [
      "72.8\n",
      "Quantidade de Latas: 4.0\n",
      "Quantidade de Galões: 21\n",
      "Preço Total: 845.0\n"
     ]
    }
   ],
   "source": []
  },
  {
   "cell_type": "markdown",
   "id": "0d5fa10a",
   "metadata": {},
   "source": [
    "##### Informe ao usuário as quantidades de tinta a serem compradas e os respectivos preços em 3 situações.\n",
    "\n",
    "Dica: lembre dos operadores // e % mostrados em exercícios anteriores<br>\n",
    "Dica1: numero // 10 vai te dar como resposta a parte inteira da divisão do número por 10.<br>\n",
    "Dica2: numero % 10 vai te dar o resto da divisão do número por 10.\n",
    "\n",
    "##### 1. Comprar apenas latas de 18 litros: (apenas latas inteiras)"
   ]
  },
  {
   "cell_type": "code",
   "execution_count": null,
   "id": "bc38cdcd",
   "metadata": {},
   "outputs": [],
   "source": [
    "# calcular quantas latas e quanto custa comprar a tinta\n",
    "    # descobrir a área a ser pintada\n",
    "    # descobrir quantos litros de tinta o cliente precisa (area/6)\n",
    "    # descobrir quantas latas eu vou precisar para a quantidade de litros\n",
    "        # calcular quantas latas (litroz / 18)\n",
    "        # arredondar esse número para cima\n",
    "            # se deu um número 'quebrado' de latas\n",
    "                # adiciona uma lata\n",
    "            # se nao\n",
    "                # de a quantidade de latas\n",
    "    # calcular o preço das latas (qtd latas * R$80)\n",
    "\n",
    "def pegar_area_usuario():\n",
    "    area = float(input('Qual a área a ser pintada? (m²)'))\n",
    "    return area\n",
    "\n",
    "def calcular_litros_precisamos(area):\n",
    "    litros = area / 6\n",
    "    return litros\n",
    "\n",
    "def calcular_latas(litros):\n",
    "    qtd_latas = litros / 18\n",
    "\n",
    "    if int(qtd_latas) != qtd_latas:\n",
    "        qtd_latas = int(qtd_latas) + 1 \n",
    "    return qtd_latas\n",
    "\n",
    "def calcula_preco(latas):\n",
    "    preco = latas * 80\n",
    "    return preco\n",
    "\n",
    "area = pegar_area_usuario()\n",
    "litros = calcular_litros_precisamos(area)\n",
    "latas = calcular_latas(litros)\n",
    "preco = calcula_preco(latas)\n",
    "\n",
    "print('Quantidade de latas: {}'.format(latas))\n",
    "print('Preço: R${}'.format(preco))"
   ]
  },
  {
   "cell_type": "markdown",
   "id": "15dc7322",
   "metadata": {},
   "source": [
    "##### 2. Comprar apenas galões de 3,6 litros: (apenas galoes inteiros)"
   ]
  },
  {
   "cell_type": "code",
   "execution_count": 49,
   "id": "6e0a01af",
   "metadata": {},
   "outputs": [
    {
     "name": "stdout",
     "output_type": "stream",
     "text": [
      "Quantidade galões:  12\n",
      "Preço:  300\n"
     ]
    }
   ],
   "source": [
    "# calcular o preço e a quantidade de galões para comprar\n",
    "    # saber a área\n",
    "area = float(input('Área(m²): '))\n",
    "    # calcular a quantidade de tintas (area / 6)\n",
    "litros_tinta = area / 6\n",
    "    # calcular a quantidade de galões (arredondando para cima) -> litros / 3,6\n",
    "        # verifico se a quantidade de galões vai ser uma divisão inteira\n",
    "            # caso não seja:\n",
    "                # galões vai ser a parte inteira da divisão + 1\n",
    "            # caso seja:\n",
    "                # galões vai ser a divisão de litros por 3,6\n",
    "\n",
    "if litros_tinta % 3.6 > 0:\n",
    "    galoes = int(litros_tinta / 3.6) + 1\n",
    "else:\n",
    "    galoes = litros_tinta / 3.6\n",
    "    # calcular o preço dos galões -> quantidade de galões * 25\n",
    "\n",
    "preco = galoes * 25\n",
    "\n",
    "print('Quantidade galões: ', galoes)\n",
    "print('Preço: ', preco)\n",
    "\n"
   ]
  },
  {
   "cell_type": "markdown",
   "id": "35e0aa11",
   "metadata": {},
   "source": [
    "##### 3. Misturar latas e galões, de forma que o desperdício de tinta seja menor. Sempre arredonde os valores para cima, isto é, considere latas cheias."
   ]
  },
  {
   "cell_type": "markdown",
   "id": "95a3d342",
   "metadata": {},
   "source": [
    "O custo da lata é 80/18 = 4,44 R\\\\$/L\n",
    "\n",
    "O custo do galão é 25/3,6 = 6,94 R\\\\$/L\n",
    "\n",
    "A lata é mais econômica, então todas as latas inteiras que pudermos usar devemos comprar em latas. Se ficar faltando alguma coisa para completar devemos avaliar se é melhor comprar latas ou galões. Exemplo:\n",
    "\n",
    "Se queremos comprar 90 litros. 5 latas dão exatamente 90 litros. Então devemos comprar tudo em latas.\n",
    "\n",
    "Se queremos comprar 95 litros. 5 latas dão exatamente 90 litros. Então devemos comprar pelo menos 5 latas e avaliar o que falta, se estes últimos 5 litros valem mais apenas em latas ou galões.\n",
    "\n",
    "Para os 5 litros faltantes precisamos de 2 galões que custam 50 reais no total. Ou de uma lata que custa 80 reais no total. Portanto, neste caso vale mais a pena usar 2 galões.\n",
    "\n",
    "Se queremos comprar 107 litros. 5 latas dão exatamente 90 litros. Então devemos comprar pelo menos 5 latas e avaliar o que falta, se estes últimos 5 litros valem mais apenas em latas ou galões.\n",
    "\n",
    "Para os 17 litros faltantes precisamos de 5 galões que custam 125 reais no total. Ou de uma lata que custa 80 reais no total. Portanto, neste caso vale mais a pena usar uma lata.\n",
    "\n",
    "3 galões custam 75 reais, 4 galões custam 100 reais. Então, se for possível completar com até 3 galões escolhe-se galões. Qualquer quantidade maior que 3 galões, usa-se latas.\n",
    "\n",
    "Podemos ir ao exercício:"
   ]
  },
  {
   "cell_type": "code",
   "execution_count": 36,
   "id": "4864e76d",
   "metadata": {},
   "outputs": [
    {
     "name": "stdout",
     "output_type": "stream",
     "text": [
      "Latas:  2\n",
      "Galões:  2\n",
      "Preço Final:  210\n"
     ]
    }
   ],
   "source": [
    "# calcular o menor preço possível de latas e galões para pintar uma parede\n",
    "    # descobrir a área a ser pintadas (pegar o input do usuário)\n",
    "area = int(input('Área(m²): '))\n",
    "    # calcular quantos litros vamos precisar (área / 6)\n",
    "litros = area / 6\n",
    "    # calcular quantas latas e galões serão precisas\n",
    "        # calcular quantas latas inteiras vamos precisar\n",
    "latas = int(litros / 18)\n",
    "        # calcular quanto vai sobrar de litros de tinta\n",
    "litros_faltam = litros % 18\n",
    "        # se sobrar tinta:\n",
    "            # quantos galões vamos precisar para essa sobra\n",
    "if litros_faltam > 0:\n",
    "    if litros_faltam % 3.6 > 0:\n",
    "        galoes = int(litros_faltam / 3.6) + 1\n",
    "    else:\n",
    "        galoes = litros_faltam / 3.6\n",
    "    # calcular o preço\n",
    "        # quantidade de latas inteiras * 80\n",
    "preco_latas = latas * 80\n",
    "        # se quantidade de galões * 25 > 80:\n",
    "            # preço anterior + 80\n",
    "        # caso contrário\n",
    "            # preço anterior + quantidade de galões * 25\n",
    "preco_galoes = galoes * 25\n",
    "if preco_galoes > 80:\n",
    "    latas = latas + 1\n",
    "    preco_latas = latas * 80\n",
    "    galoes = 0\n",
    "    preco_galoes = 0\n",
    "else:\n",
    "    pass\n",
    "\n",
    "preco_final = preco_latas + preco_galoes\n",
    "print('Latas: ', latas)\n",
    "print('Galões: ', galoes)\n",
    "print('Preço Final: ', preco_final)"
   ]
  },
  {
   "cell_type": "code",
   "execution_count": 37,
   "id": "95e298f7",
   "metadata": {},
   "outputs": [],
   "source": [
    "# enviar um relatório com as vendas do dia anterior para o meu chefe as 9h da manhã\n",
    "    # pegar uma base de dados com as vendas do dia anterior\n",
    "        # entrar no sistema\n",
    "        # navegar até o local da base de dados\n",
    "        # exportar a base de dados\n",
    "    # calcular as vendas do dia anterior\n",
    "        # importar a base de python pelo Python\n",
    "        # consolidar as vendas\n",
    "        # calcular o indicador de vendas\n",
    "    # enviar um email para o chefe\n",
    "        # entrar no meu email\n",
    "            # abrir o navegador\n",
    "            # digitar gmail.com na barra de navegação\n",
    "            # dar enter\n",
    "        # criar um novo email\n",
    "            # clicar no botão novo email\n",
    "        # preencher com as informações de vendas\n",
    "        # enviar o email"
   ]
  },
  {
   "cell_type": "markdown",
   "id": "e395efb6",
   "metadata": {},
   "source": [
    "##### 3. Minha Resolução"
   ]
  },
  {
   "cell_type": "code",
   "execution_count": 1,
   "id": "15ffcb13",
   "metadata": {},
   "outputs": [
    {
     "name": "stdout",
     "output_type": "stream",
     "text": [
      "Litros:  13.33\n",
      "Quantidade latas:  1\n",
      "Preço latas:  80\n",
      "\n",
      "\n",
      "Quantidade galões:  0\n",
      "Preço galões:  0\n",
      "\n",
      "\n",
      "Preço Total: R$ 80\n"
     ]
    }
   ],
   "source": [
    "area = float(input(\"Área[m²]: \"))\n",
    "litros = round(area / 6, 2)\n",
    "\n",
    "qnt_latas = 0\n",
    "prc_latas = 0\n",
    "\n",
    "qnt_galoes = 0\n",
    "prc_galoes = 0\n",
    "\n",
    "# latas ---->       1   ------   18L         ----> R$80,00\n",
    "#                   X   ------   litros\n",
    "\n",
    "# galoes ---->      1   ------   3,6         ----> R$25,00 \n",
    "#                   X   ------   litros\n",
    "\n",
    "if litros < 18:\n",
    "    if litros % 3.6 != 0:\n",
    "        qnt_galoes = int(litros // 3.6) + 1\n",
    "        prc_galoes = qnt_galoes * 25\n",
    "    else:\n",
    "        qnt_galoes = litros / 3.6\n",
    "        prc_galoes = qnt_galoes * 25\n",
    "\n",
    "    if prc_galoes > 80:\n",
    "        prc_galoes = 0\n",
    "        prc_latas = 80\n",
    "        qnt_galoes = 0\n",
    "        qnt_latas = 1\n",
    "\n",
    "else:\n",
    "    if litros % 18 != 0:\n",
    "        qnt_latas = litros // 18\n",
    "        prc_latas = qnt_latas * 80\n",
    "\n",
    "        qnt_galoes = int((litros % 18) / 3.6) + 1\n",
    "        prc_galoes = qnt_galoes * 25\n",
    "\n",
    "        if prc_galoes > 80:\n",
    "            qnt_galoes = 0\n",
    "            prc_galoes = 0\n",
    "\n",
    "            qnt_latas += 1\n",
    "            prc_latas += 80\n",
    "    else:\n",
    "        qnt_latas = litros / 18\n",
    "        prc_latas = qnt_latas * 80\n",
    "\n",
    "prc_final = prc_latas + prc_galoes\n",
    "\n",
    "\n",
    "print('Litros: ', litros)\n",
    "\n",
    "print('Quantidade latas: ', qnt_latas)\n",
    "print('Preço latas: ', prc_latas)\n",
    "print('\\n')\n",
    "print('Quantidade galões: ', qnt_galoes)\n",
    "print('Preço galões: ', prc_galoes)\n",
    "print('\\n')\n",
    "print('Preço Total: R$', prc_final)\n",
    "\n",
    "\n",
    "\n"
   ]
  },
  {
   "cell_type": "code",
   "execution_count": 29,
   "id": "4bba0e71",
   "metadata": {},
   "outputs": [
    {
     "data": {
      "text/plain": [
       "5.670000000000002"
      ]
     },
     "execution_count": 29,
     "metadata": {},
     "output_type": "execute_result"
    }
   ],
   "source": [
    "41.67 % 18"
   ]
  }
 ],
 "metadata": {
  "kernelspec": {
   "display_name": "Python 3 (ipykernel)",
   "language": "python",
   "name": "python3"
  },
  "language_info": {
   "codemirror_mode": {
    "name": "ipython",
    "version": 3
   },
   "file_extension": ".py",
   "mimetype": "text/x-python",
   "name": "python",
   "nbconvert_exporter": "python",
   "pygments_lexer": "ipython3",
   "version": "3.10.10"
  }
 },
 "nbformat": 4,
 "nbformat_minor": 5
}
