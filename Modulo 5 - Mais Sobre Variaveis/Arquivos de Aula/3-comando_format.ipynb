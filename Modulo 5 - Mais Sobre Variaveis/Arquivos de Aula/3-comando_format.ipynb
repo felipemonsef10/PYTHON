{
 "cells": [
  {
   "cell_type": "code",
   "execution_count": 2,
   "metadata": {},
   "outputs": [
    {
     "name": "stdout",
     "output_type": "stream",
     "text": [
      "O faturamento da loja foi 2000. O custo da loja foi 200. Assim o lucro da loja foi 1800.\n"
     ]
    }
   ],
   "source": [
    "faturamento = 2000\n",
    "custo = 200\n",
    "lucro = faturamento - custo\n",
    "\n",
    "print('O faturamento da loja foi {}. O custo da loja foi {}. Assim o lucro da loja foi {}.'.format(faturamento, custo, lucro))"
   ]
  }
 ],
 "metadata": {
  "kernelspec": {
   "display_name": "Python 3",
   "language": "python",
   "name": "python3"
  },
  "language_info": {
   "codemirror_mode": {
    "name": "ipython",
    "version": 3
   },
   "file_extension": ".py",
   "mimetype": "text/x-python",
   "name": "python",
   "nbconvert_exporter": "python",
   "pygments_lexer": "ipython3",
   "version": "3.10.10"
  }
 },
 "nbformat": 4,
 "nbformat_minor": 2
}
