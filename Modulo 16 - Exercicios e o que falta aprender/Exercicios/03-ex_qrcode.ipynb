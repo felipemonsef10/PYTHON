{
 "cells": [
  {
   "cell_type": "markdown",
   "id": "9d4ec1f7-92e3-4764-8b47-318a52fc62c4",
   "metadata": {},
   "source": [
    "# Criando QR Code"
   ]
  },
  {
   "cell_type": "markdown",
   "id": "6a649f54-8f0f-46dd-933a-e934d67e51b0",
   "metadata": {},
   "source": [
    "Para instalar:\n",
    "\n",
    "```\n",
    "pip install qrcode\n",
    "pip install Pillow\n",
    "```\n",
    "Documentação: https://github.com/lincolnloop/python-qrcode"
   ]
  },
  {
   "cell_type": "markdown",
   "id": "0a2ec7b0-c74f-4857-a6a7-2b79641a44da",
   "metadata": {},
   "source": [
    "Links da Hashtag:\n",
    "\n",
    "- https://www.youtube.com/@HashtagProgramacao\n",
    "- https://www.facebook.com/hashtagprogramacao\n",
    "- https://www.instagram.com/hashtagprogramacao\n",
    "- https://www.youtube.com/@HashtagProgramacao\n",
    "- https://www.tiktok.com/@hashtagprogramacao"
   ]
  },
  {
   "cell_type": "markdown",
   "id": "fbd74860-92b2-4efe-96cb-1bd4f701ba30",
   "metadata": {},
   "source": [
    "## QR Code simples"
   ]
  },
  {
   "cell_type": "markdown",
   "id": "45f4c13c",
   "metadata": {},
   "source": [
    "##### 1."
   ]
  },
  {
   "cell_type": "code",
   "execution_count": 16,
   "id": "aeb7d00d-0dbd-446e-8f94-3b00e10a763d",
   "metadata": {},
   "outputs": [],
   "source": [
    "import qrcode\n",
    "\n",
    "img = qrcode.make('https://www.youtube.com/@HashtagProgramacao')\n",
    "\n",
    "img.save('03-qrcode_simples.png')"
   ]
  },
  {
   "cell_type": "markdown",
   "id": "0df50a17-96db-49b2-bf18-d00f8193ae0e",
   "metadata": {},
   "source": [
    "## QR Code com imagem"
   ]
  },
  {
   "cell_type": "markdown",
   "id": "d858c9a2",
   "metadata": {},
   "source": [
    "##### 1."
   ]
  },
  {
   "cell_type": "code",
   "execution_count": 23,
   "id": "038b1eac-e441-4d0f-84af-097c3ade3791",
   "metadata": {},
   "outputs": [],
   "source": [
    "import qrcode\n",
    "from qrcode.image.styledpil import StyledPilImage\n",
    "\n",
    "\n",
    "qr = qrcode.QRCode(error_correction=qrcode.constants.ERROR_CORRECT_H)\n",
    "\n",
    "\n",
    "qr.add_data('https://www.youtube.com/@HashtagProgramacao')\n",
    "\n",
    "\n",
    "img = qr.make_image(\n",
    "    image_factory=StyledPilImage,\n",
    "    embeded_image_path='03-logo.png'\n",
    ")\n",
    "\n",
    "\n",
    "img.save('03-qrcode_logo.png')\n"
   ]
  },
  {
   "cell_type": "markdown",
   "id": "6e86c524",
   "metadata": {},
   "source": [
    "##### 2."
   ]
  },
  {
   "cell_type": "code",
   "execution_count": null,
   "id": "f86e1e43",
   "metadata": {},
   "outputs": [],
   "source": [
    "import qrcode\n",
    "import os\n",
    "\n",
    "qr = qrcode.QRCode(version=1, box_size=10, border=5)\n",
    "\n",
    "data = 'https://www.youtube.com/@HashtagProgramacao'\n",
    "\n",
    "qr.add_data(data)\n",
    "\n",
    "qr.make(fit=True)\n",
    "\n",
    "img = qr.make_image(fill_color='black', back_color='white')\n",
    "\n",
    "img.save('ythashtag_link.png')\n",
    "os.startfile('ythashtag_link.png')"
   ]
  },
  {
   "cell_type": "markdown",
   "id": "6bd9dccf-64e7-4dfe-b4cb-f81ef1cd2f9f",
   "metadata": {},
   "source": [
    "## Criando diversos QR Code ao mesmo tempo"
   ]
  },
  {
   "cell_type": "code",
   "execution_count": 25,
   "id": "2028e0a0-49a6-4a9e-a903-0d1397cf2422",
   "metadata": {},
   "outputs": [],
   "source": [
    "redes_sociais = {\n",
    "    'facebook': 'https://www.facebook.com/hashtagprogramacao',\n",
    "    'instagram': 'https://www.instagram.com/hashtagprogramacao',\n",
    "    'youtube': 'https://www.youtube.com/@HashtagProgramacao',\n",
    "    'tiktok': 'https://www.tiktok.com/@hashtagprogramacao'\n",
    "}\n",
    "\n",
    "for rede_social, url in redes_sociais.items():\n",
    "    qr = qrcode.QRCode(error_correction=qrcode.constants.ERROR_CORRECT_H)\n",
    "\n",
    "\n",
    "    qr.add_data(f'{url}')\n",
    "\n",
    "\n",
    "    img = qr.make_image(\n",
    "        image_factory=StyledPilImage,\n",
    "        embeded_image_path='03-logo.png'\n",
    "    )\n",
    "\n",
    "\n",
    "    img.save(f'{rede_social}.png')\n",
    "\n"
   ]
  }
 ],
 "metadata": {
  "kernelspec": {
   "display_name": "Python 3",
   "language": "python",
   "name": "python3"
  },
  "language_info": {
   "codemirror_mode": {
    "name": "ipython",
    "version": 3
   },
   "file_extension": ".py",
   "mimetype": "text/x-python",
   "name": "python",
   "nbconvert_exporter": "python",
   "pygments_lexer": "ipython3",
   "version": "3.10.10"
  }
 },
 "nbformat": 4,
 "nbformat_minor": 5
}
