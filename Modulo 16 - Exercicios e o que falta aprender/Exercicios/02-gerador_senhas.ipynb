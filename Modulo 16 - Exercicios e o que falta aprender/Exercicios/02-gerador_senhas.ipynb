{
 "cells": [
  {
   "cell_type": "markdown",
   "id": "74b1c214-34d8-43a1-867b-1055887eca93",
   "metadata": {},
   "source": [
    "Escreva um programa que gere uma senha aleatória com um determinado comprimento. A senha deve conter uma mistura de letras, números e caracteres especiais. O comprimento da senha deve ser fornecido pelo usuário. Se o comprimento for menor que 4, imprima uma mensagem de erro e peça ao usuário para fornecer um novo comprimento.\n",
    "\n",
    "A senha deve ser aleatória, então cada vez que o usuário executar o programa, uma nova senha deve ser gerada. Obrigatoriamente, a senha deve conter pelo menos uma letra, um número e um caractere especial. A senha não pode conter espaços em branco.\n",
    "\n",
    "O programa deve conter uma função chamada `gerar_senha` que recebe o comprimento da senha como parâmetro e retorna a senha gerada. Se o comprimento for inválido, a função deve retornar None.\n",
    "\n",
    "Exemplo de saída:\n",
    "\n",
    "```\n",
    "Digite o comprimento da senha: 10\n",
    "8Zn$*2q9X\n",
    "```\n",
    "\n",
    "- Dica: use a biblioteca random e a função shuffle para embaralhar os caracteres da senha.\n",
    "- Dica: use a função choice, dessa mesma biblioteca, para escolher um caractere aleatório de uma string.\n",
    "- Dica: use a biblioteca string para obter uma lista de caracteres válidos para a senha."
   ]
  },
  {
   "cell_type": "code",
   "execution_count": null,
   "id": "cb0dcca9",
   "metadata": {},
   "outputs": [],
   "source": [
    "import string\n",
    "import random\n",
    "\n",
    "\n",
    "def gerar_senha(tamanho):\n",
    "    letras = [caracter for caracter in string.ascii_letters]\n",
    "    numeros = [caracter for caracter in string.digits]\n",
    "    simbolos = [caracter for caracter in string.punctuation]\n",
    "\n",
    "    caracteres = [letras, numeros, simbolos] \n",
    "\n",
    "    senha = [random.choice(letras)]\n",
    "    senha.append(random.choice(numeros))\n",
    "    senha.append(random.choice(simbolos))\n",
    "\n",
    "    for cont in range(tamanho - 3):\n",
    "        senha.append(random.choice(caracteres[random.randint(0, 2)]))\n",
    "\n",
    "    random.shuffle(senha)\n",
    "\n",
    "    senha = ''.join(senha)\n",
    "\n",
    "    if tamanho < 4:\n",
    "        return None\n",
    "    \n",
    "    return senha\n",
    "\n",
    "\n",
    "\n",
    "while True:\n",
    "    tamanho_senha = int(input('Tamanho da senha: '))\n",
    "    senha = gerar_senha(tamanho_senha)\n",
    "    if senha == None:\n",
    "        print('O tamanho da senha deve ser maior que 3!')\n",
    "    else:\n",
    "        print(f'Sua senha é: \\n{senha}')\n",
    "        break\n",
    "\n",
    "\n"
   ]
  },
  {
   "cell_type": "code",
   "execution_count": null,
   "id": "9046b3e2",
   "metadata": {},
   "outputs": [],
   "source": [
    "def gera_senha(tamanho):\n",
    "    if tamanho < 4:\n",
    "        print('Tamanho inválido.')\n",
    "    else:\n",
    "        senha = [\n",
    "            random.choice(string.ascii_letters),\n",
    "            random.choice(string.digits),\n",
    "            random.choice(string.punctuation),\n",
    "        ]\n",
    "\n",
    "        possibilidades = ''.join([string.ascii_letters, string.digits, string.punctuation])\n",
    "        senha.extend(random.choices(possibilidades, k=tamanho - 3))\n",
    "\n",
    "        random.shuffle(senha)\n",
    "        \n",
    "        return ''.join(senha)\n",
    "\n",
    "\n",
    "tamanho_senha = int(input('Digite o comprimento da senha: '))\n",
    "print(gera_senha(tamanho_senha))"
   ]
  }
 ],
 "metadata": {
  "kernelspec": {
   "display_name": "Python 3 (ipykernel)",
   "language": "python",
   "name": "python3"
  },
  "language_info": {
   "codemirror_mode": {
    "name": "ipython",
    "version": 3
   },
   "file_extension": ".py",
   "mimetype": "text/x-python",
   "name": "python",
   "nbconvert_exporter": "python",
   "pygments_lexer": "ipython3",
   "version": "3.10.10"
  }
 },
 "nbformat": 4,
 "nbformat_minor": 5
}
