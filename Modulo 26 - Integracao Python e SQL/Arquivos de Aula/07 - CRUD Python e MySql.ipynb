{
 "cells": [
  {
   "cell_type": "markdown",
   "metadata": {},
   "source": [
    "### **USANDO O PYODBC**"
   ]
  },
  {
   "cell_type": "code",
   "execution_count": null,
   "metadata": {},
   "outputs": [],
   "source": [
    "# import pyodbc\n",
    "\n",
    "# dados_conexao = ('Driver={Devart ODBC Driver for MySQL};'\n",
    "#                  'User ID=root;'\n",
    "#                  'Password=fgmc1234;'\n",
    "#                  'Server=localhost;'\n",
    "#                  'Database=bdyoutube')\n",
    "\n",
    "# conexao = pyodbc.connect(dados_conexao)\n",
    "\n",
    "# cursor = conexao.cursor()\n",
    "\n",
    "# cursor.execute('SELECT * FROM vendas')\n",
    "\n",
    "# linhas = cursor.fetchall()\n",
    "# colunas = cursor.description\n",
    "\n",
    "# cursor.close()\n",
    "# conexao.close()"
   ]
  },
  {
   "cell_type": "markdown",
   "metadata": {},
   "source": [
    "### **USANDO O MySQLConnector**"
   ]
  },
  {
   "cell_type": "markdown",
   "metadata": {},
   "source": [
    "##### **CRIANDO CONEXÃO**"
   ]
  },
  {
   "cell_type": "code",
   "execution_count": null,
   "metadata": {},
   "outputs": [],
   "source": [
    "import mysql.connector\n",
    "\n",
    "\n",
    "conexao = mysql.connector.connect(\n",
    "    host='localhost', \n",
    "    user='root', \n",
    "    password='fgmc1234', \n",
    "    database='bdyoutube'\n",
    ")\n",
    "\n",
    "cursor = conexao.cursor()"
   ]
  },
  {
   "cell_type": "markdown",
   "metadata": {},
   "source": [
    "##### **CREATE**"
   ]
  },
  {
   "cell_type": "code",
   "execution_count": null,
   "metadata": {},
   "outputs": [],
   "source": [
    "# CREATE\n",
    "nome_produto = \"nikito\"\n",
    "valor_produto = 2\n",
    "\n",
    "comando = f'''\n",
    "INSERT INTO vendas (nome_produto, valor)\n",
    "VALUES (\"{nome_produto}\", {valor_produto})\n",
    "'''\n",
    "cursor.execute(comando)\n",
    "\n",
    "conexao.commit()"
   ]
  },
  {
   "cell_type": "markdown",
   "metadata": {},
   "source": [
    "##### **READ**"
   ]
  },
  {
   "cell_type": "code",
   "execution_count": null,
   "metadata": {},
   "outputs": [],
   "source": [
    "# READ\n",
    "comando = 'SELECT * FROM vendas'\n",
    "cursor.execute(comando)\n",
    "\n",
    "linhas = cursor.fetchall()\n",
    "colunas = cursor.description\n",
    "\n",
    "display(colunas)\n",
    "display(linhas)"
   ]
  },
  {
   "cell_type": "markdown",
   "metadata": {},
   "source": [
    "##### **UPDATE**"
   ]
  },
  {
   "cell_type": "code",
   "execution_count": 27,
   "metadata": {},
   "outputs": [],
   "source": [
    "# UPDATE\n",
    "nome_produto = 'nikito'\n",
    "valor_produto = 3\n",
    "\n",
    "comando = f'''\n",
    "UPDATE vendas\n",
    "SET valor={valor_produto}\n",
    "WHERE nome_produto=\"{nome_produto}\"\n",
    "'''\n",
    "cursor.execute(comando)\n",
    "\n",
    "conexao.commit()"
   ]
  },
  {
   "cell_type": "markdown",
   "metadata": {},
   "source": [
    "##### **DELETE**"
   ]
  },
  {
   "cell_type": "code",
   "execution_count": null,
   "metadata": {},
   "outputs": [],
   "source": [
    "# DELETE\n",
    "id_produto = 4\n",
    "\n",
    "\n",
    "comando = f'''\n",
    "DELETE FROM vendas\n",
    "WHERE idVendas={id_produto}\n",
    "'''\n",
    "cursor.execute(comando)\n",
    "\n",
    "conexao.commit()"
   ]
  },
  {
   "cell_type": "markdown",
   "metadata": {},
   "source": [
    "##### **FECHAR CONEXÃO**"
   ]
  },
  {
   "cell_type": "code",
   "execution_count": null,
   "metadata": {},
   "outputs": [],
   "source": [
    "# SEMPRE\n",
    "cursor.close()\n",
    "conexao.close()"
   ]
  }
 ],
 "metadata": {
  "kernelspec": {
   "display_name": "Python 3",
   "language": "python",
   "name": "python3"
  },
  "language_info": {
   "codemirror_mode": {
    "name": "ipython",
    "version": 3
   },
   "file_extension": ".py",
   "mimetype": "text/x-python",
   "name": "python",
   "nbconvert_exporter": "python",
   "pygments_lexer": "ipython3",
   "version": "3.10.10"
  }
 },
 "nbformat": 4,
 "nbformat_minor": 2
}
