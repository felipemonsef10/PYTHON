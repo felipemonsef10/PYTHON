{
 "cells": [
  {
   "cell_type": "markdown",
   "metadata": {},
   "source": [
    "# Exportando do DataFrame para um csv\n",
    "\n",
    "### Depois de modificar um DataFrame, ou até criar um, muitas vezes podemos exportar esse dataframe para um csv\n",
    "\n",
    "No pandas, isso é bem simples:\n",
    "\n",
    "dataframe.to_csv('nome_do_arquivo.csv', sep=',')"
   ]
  },
  {
   "cell_type": "markdown",
   "metadata": {},
   "source": [
    "### Lendo um DataFrame, modificando ele e exportando"
   ]
  },
  {
   "cell_type": "code",
   "execution_count": null,
   "metadata": {},
   "outputs": [],
   "source": [
    "import pandas as pd\n",
    "import os\n",
    "\n",
    "#importando os arquivos\n",
    "vendas_df = pd.read_csv(r'Arquivos CSV\\Contoso - Vendas - 2017.csv', sep=';')\n",
    "produtos_df = pd.read_csv(r'Arquivos CSV\\Contoso - Cadastro Produtos.csv', sep=';', encoding='ISO-8859-1').rename(columns={'ÿNome do Produto': 'Nome do Produto'})\n",
    "lojas_df = pd.read_csv(r'Arquivos CSV\\Contoso - Lojas.csv', sep=';', encoding='ISO-8859-1').rename(columns={'ÿID Loja': 'ID Loja'})\n",
    "clientes_df = pd.read_csv(r'Arquivos CSV\\Contoso - Clientes.csv', sep=';', encoding='ISO-8859-1').rename(columns={'ÿID Cliente': 'ID Cliente'})\n",
    "\n",
    "#limpando apenas as colunas que queremos\n",
    "clientes_df = clientes_df[['ID Cliente', 'E-mail']]\n",
    "produtos_df = produtos_df[['ID Produto', 'Nome do Produto']]\n",
    "lojas_df = lojas_df[['ID Loja', 'Nome da Loja']]\n",
    "\n",
    "#mesclando e renomeando os dataframes\n",
    "vendas_df = vendas_df.merge(produtos_df, on='ID Produto')\n",
    "vendas_df = vendas_df.merge(lojas_df, on='ID Loja')\n",
    "vendas_df = vendas_df.merge(clientes_df, on='ID Cliente').rename(columns={'E-mail': 'E-mail do Cliente'})\n",
    "display(vendas_df)"
   ]
  },
  {
   "cell_type": "code",
   "execution_count": null,
   "metadata": {},
   "outputs": [],
   "source": [
    "#agora vamos criar o csv\n",
    "vendas_df.to_csv(r'Arquivos CSV\\Novo Vendas 2017.csv', sep=';')"
   ]
  },
  {
   "cell_type": "markdown",
   "metadata": {},
   "source": [
    "### Criando um dicionário, transformando o dicionário em um DataFrame e Exportando para csv"
   ]
  },
  {
   "cell_type": "code",
   "execution_count": null,
   "metadata": {},
   "outputs": [],
   "source": [
    "vendas_produtos = {'iphone': [558147, 951642], 'galaxy': [712350, 244295], 'ipad': [573823, 26964], 'tv': [405252, 787604], 'máquina de café': [718654, 867660], 'kindle': [531580, 78830], 'geladeira': [973139, 710331], 'adega': [892292, 646016], 'notebook dell': [422760, 694913], 'notebook hp': [154753, 539704], 'notebook asus': [887061, 324831], 'microsoft surface': [438508, 667179], 'webcam': [237467, 295633], 'caixa de som': [489705, 725316], 'microfone': [328311, 644622], 'câmera canon': [591120, 994303]}\n",
    "\n",
    "vendas_produtos_df = pd.DataFrame.from_dict(vendas_produtos, orient='index')\n",
    "vendas_produtos_df = vendas_produtos_df.rename(columns={0: 'Vendas 2019', 1: 'Vendas 2020'})\n",
    "vendas_produtos_df.to_csv(r'Arquivos CSV\\Novo Vendas Produtos.csv', sep=',', encoding='latin1')"
   ]
  }
 ],
 "metadata": {
  "kernelspec": {
   "display_name": "Python 3",
   "language": "python",
   "name": "python3"
  },
  "language_info": {
   "codemirror_mode": {
    "name": "ipython",
    "version": 3
   },
   "file_extension": ".py",
   "mimetype": "text/x-python",
   "name": "python",
   "nbconvert_exporter": "python",
   "pygments_lexer": "ipython3",
   "version": "3.10.10"
  }
 },
 "nbformat": 4,
 "nbformat_minor": 4
}
