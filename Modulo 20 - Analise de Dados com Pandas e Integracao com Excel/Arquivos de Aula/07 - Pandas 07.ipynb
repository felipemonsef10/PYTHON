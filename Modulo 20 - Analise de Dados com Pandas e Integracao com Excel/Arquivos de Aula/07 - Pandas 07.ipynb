{
 "cells": [
  {
   "cell_type": "markdown",
   "metadata": {},
   "source": [
    "# Adicionando Colunas, Modificando Colunas e Valores"
   ]
  },
  {
   "cell_type": "markdown",
   "metadata": {},
   "source": [
    "### Vamos pegar o nosso dataframe novamente"
   ]
  },
  {
   "cell_type": "code",
   "execution_count": null,
   "metadata": {},
   "outputs": [],
   "source": [
    "import pandas as pd\n",
    "#importando os arquivos\n",
    "vendas_df = pd.read_csv(r'Arquivos CSV\\Contoso - Vendas - 2017.csv', sep=';')\n",
    "produtos_df = pd.read_csv(r'Arquivos CSV\\Contoso - Cadastro Produtos.csv', sep=';', encoding='ISO-8859-1').rename(columns={'ÿNome do Produto': 'Nome do Produto'})\n",
    "lojas_df = pd.read_csv(r'Arquivos CSV\\Contoso - Lojas.csv', sep=';', encoding='ISO-8859-1').rename(columns={'ÿID Loja': 'ID Loja'})\n",
    "clientes_df = pd.read_csv(r'Arquivos CSV\\Contoso - Clientes.csv', sep=';', encoding='ISO-8859-1').rename(columns={'ÿID Cliente': 'ID Cliente'})\n",
    "\n",
    "#limpando apenas as colunas que queremos\n",
    "clientes_df = clientes_df[['ID Cliente', 'E-mail']]\n",
    "produtos_df = produtos_df[['ID Produto', 'Nome do Produto']]\n",
    "lojas_df = lojas_df[['ID Loja', 'Nome da Loja']]\n",
    "\n",
    "#mesclando e renomeando os dataframes\n",
    "vendas_df = vendas_df.merge(produtos_df, on='ID Produto')\n",
    "vendas_df = vendas_df.merge(lojas_df, on='ID Loja')\n",
    "vendas_df = vendas_df.merge(clientes_df, on='ID Cliente').rename(columns={'E-mail': 'E-mail do Cliente'})\n",
    "display(vendas_df)"
   ]
  },
  {
   "cell_type": "code",
   "execution_count": null,
   "metadata": {},
   "outputs": [],
   "source": [
    "vendas_df.info()"
   ]
  },
  {
   "cell_type": "markdown",
   "metadata": {},
   "source": [
    "### Agora, e se quisermos acrescentar uma coluna com o mês, o dia e o ano de cada venda (e não só a data completa)"
   ]
  },
  {
   "cell_type": "code",
   "execution_count": null,
   "metadata": {},
   "outputs": [],
   "source": [
    "vendas_df['Data da Venda'] = pd.to_datetime(vendas_df['Data da Venda'], format='%d/%m/%Y')\n",
    "vendas_df['Ano da Venda'] = vendas_df['Data da Venda'].dt.year\n",
    "vendas_df['Mes da Venda'] = vendas_df['Data da Venda'].dt.month\n",
    "vendas_df['Dia da Venda'] = vendas_df['Data da Venda'].dt.day\n",
    "display(vendas_df)\n",
    "vendas_df.info()"
   ]
  },
  {
   "cell_type": "markdown",
   "metadata": {},
   "source": [
    "### E agora, caso a gente queira modificar 1 valor específico, como fazemos? Vamos importar novamente a base de produtos"
   ]
  },
  {
   "cell_type": "code",
   "execution_count": 16,
   "metadata": {
    "scrolled": true
   },
   "outputs": [
    {
     "data": {
      "text/html": [
       "<div>\n",
       "<style scoped>\n",
       "    .dataframe tbody tr th:only-of-type {\n",
       "        vertical-align: middle;\n",
       "    }\n",
       "\n",
       "    .dataframe tbody tr th {\n",
       "        vertical-align: top;\n",
       "    }\n",
       "\n",
       "    .dataframe thead th {\n",
       "        text-align: right;\n",
       "    }\n",
       "</style>\n",
       "<table border=\"1\" class=\"dataframe\">\n",
       "  <thead>\n",
       "    <tr style=\"text-align: right;\">\n",
       "      <th></th>\n",
       "      <th>Nome do Produto</th>\n",
       "      <th>Descricao do Produto</th>\n",
       "      <th>Fabricante</th>\n",
       "      <th>Nome da Marca</th>\n",
       "      <th>Tipo</th>\n",
       "      <th>Custo Unitario</th>\n",
       "      <th>Preco Unitario</th>\n",
       "      <th>ID Produto</th>\n",
       "      <th>ID Subcategoria</th>\n",
       "    </tr>\n",
       "  </thead>\n",
       "  <tbody>\n",
       "    <tr>\n",
       "      <th>0</th>\n",
       "      <td>Contoso Wireless Laser Mouse E50 Grey</td>\n",
       "      <td>Advanced 2.4 GHz cordless technology makes fre...</td>\n",
       "      <td>Contoso, Ltd</td>\n",
       "      <td>Contoso</td>\n",
       "      <td>Econômico</td>\n",
       "      <td>10,69</td>\n",
       "      <td>20,96</td>\n",
       "      <td>873</td>\n",
       "      <td>22</td>\n",
       "    </tr>\n",
       "    <tr>\n",
       "      <th>1</th>\n",
       "      <td>Contoso Optical Wheel OEM PS/2 Mouse E60 Grey</td>\n",
       "      <td>PS/2 mouse, 6 feet mouse cable</td>\n",
       "      <td>Contoso, Ltd</td>\n",
       "      <td>Contoso</td>\n",
       "      <td>Econômico</td>\n",
       "      <td>6,63</td>\n",
       "      <td>13</td>\n",
       "      <td>879</td>\n",
       "      <td>22</td>\n",
       "    </tr>\n",
       "    <tr>\n",
       "      <th>2</th>\n",
       "      <td>Contoso Optical Wheel OEM PS/2 Mouse E60 Black</td>\n",
       "      <td>PS/2 mouse, 6 feet mouse cable</td>\n",
       "      <td>Contoso, Ltd</td>\n",
       "      <td>Contoso</td>\n",
       "      <td>Econômico</td>\n",
       "      <td>6,63</td>\n",
       "      <td>13</td>\n",
       "      <td>880</td>\n",
       "      <td>22</td>\n",
       "    </tr>\n",
       "    <tr>\n",
       "      <th>3</th>\n",
       "      <td>Contoso Optical Wheel OEM PS/2 Mouse E60 White</td>\n",
       "      <td>PS/2 mouse, 6 feet mouse cable</td>\n",
       "      <td>Contoso, Ltd</td>\n",
       "      <td>Contoso</td>\n",
       "      <td>Econômico</td>\n",
       "      <td>6,63</td>\n",
       "      <td>13</td>\n",
       "      <td>881</td>\n",
       "      <td>22</td>\n",
       "    </tr>\n",
       "    <tr>\n",
       "      <th>4</th>\n",
       "      <td>Contoso Optical Wheel OEM PS/2 Mouse E60 Silver</td>\n",
       "      <td>PS/2 mouse, 6 feet mouse cable</td>\n",
       "      <td>Contoso, Ltd</td>\n",
       "      <td>Contoso</td>\n",
       "      <td>Econômico</td>\n",
       "      <td>6,63</td>\n",
       "      <td>13</td>\n",
       "      <td>882</td>\n",
       "      <td>22</td>\n",
       "    </tr>\n",
       "  </tbody>\n",
       "</table>\n",
       "</div>"
      ],
      "text/plain": [
       "                                   Nome do Produto  \\\n",
       "0            Contoso Wireless Laser Mouse E50 Grey   \n",
       "1    Contoso Optical Wheel OEM PS/2 Mouse E60 Grey   \n",
       "2   Contoso Optical Wheel OEM PS/2 Mouse E60 Black   \n",
       "3   Contoso Optical Wheel OEM PS/2 Mouse E60 White   \n",
       "4  Contoso Optical Wheel OEM PS/2 Mouse E60 Silver   \n",
       "\n",
       "                                Descricao do Produto    Fabricante  \\\n",
       "0  Advanced 2.4 GHz cordless technology makes fre...  Contoso, Ltd   \n",
       "1                     PS/2 mouse, 6 feet mouse cable  Contoso, Ltd   \n",
       "2                     PS/2 mouse, 6 feet mouse cable  Contoso, Ltd   \n",
       "3                     PS/2 mouse, 6 feet mouse cable  Contoso, Ltd   \n",
       "4                     PS/2 mouse, 6 feet mouse cable  Contoso, Ltd   \n",
       "\n",
       "  Nome da Marca       Tipo Custo Unitario Preco Unitario  ID Produto  \\\n",
       "0       Contoso  Econômico          10,69          20,96         873   \n",
       "1       Contoso  Econômico           6,63             13         879   \n",
       "2       Contoso  Econômico           6,63             13         880   \n",
       "3       Contoso  Econômico           6,63             13         881   \n",
       "4       Contoso  Econômico           6,63             13         882   \n",
       "\n",
       "   ID Subcategoria  \n",
       "0               22  \n",
       "1               22  \n",
       "2               22  \n",
       "3               22  \n",
       "4               22  "
      ]
     },
     "metadata": {},
     "output_type": "display_data"
    }
   ],
   "source": [
    "novo_produtos_df = pd.read_csv(r'Arquivos CSV\\Contoso - Cadastro Produtos.csv', sep=';', encoding='ISO-8859-1').rename(columns={'ÿNome do Produto': 'Nome do Produto'})\n",
    "display(novo_produtos_df.head())\n",
    "#repare no .head() para pegar apenas os primeiros valores, é bem comum esse uso para ter uma visão do que são os dados"
   ]
  },
  {
   "cell_type": "markdown",
   "metadata": {},
   "source": [
    "### Antes de entrar no próximo exemplo, precisamos falar de 2 métodos:\n",
    "    1. loc - permite pegar uma linha de acordo com o índice dela. Ele dá erro caso não encontre o índice. Isso é interessante principalmente quando o índice é uma informação relevante ao invés só do número do índice ou quando queremos pegar alguma linha específica do dataframe (ao invés de ir do início do dataframe até a linha 5, por exemplo).\n",
    "        Também podemos usar como loc[índice_linha, índice_coluna] para acessar um valor específico e modificá-lo.\n",
    "    2. iloc - enxerga o dataframe como linhas e colunas e consegue pegar o valor com um número de linha e um número de coluna. Repara que ele não analisa o valor do índice da linha e da coluna, apenas a posição importa.\n",
    "        Uso: iloc[num_linha, num_coluna]\n",
    "        \n",
    "- Vendo na prática"
   ]
  },
  {
   "cell_type": "code",
   "execution_count": 17,
   "metadata": {
    "scrolled": true
   },
   "outputs": [
    {
     "data": {
      "text/html": [
       "<div>\n",
       "<style scoped>\n",
       "    .dataframe tbody tr th:only-of-type {\n",
       "        vertical-align: middle;\n",
       "    }\n",
       "\n",
       "    .dataframe tbody tr th {\n",
       "        vertical-align: top;\n",
       "    }\n",
       "\n",
       "    .dataframe thead th {\n",
       "        text-align: right;\n",
       "    }\n",
       "</style>\n",
       "<table border=\"1\" class=\"dataframe\">\n",
       "  <thead>\n",
       "    <tr style=\"text-align: right;\">\n",
       "      <th></th>\n",
       "      <th>Descricao do Produto</th>\n",
       "      <th>Fabricante</th>\n",
       "      <th>Nome da Marca</th>\n",
       "      <th>Tipo</th>\n",
       "      <th>Custo Unitario</th>\n",
       "      <th>Preco Unitario</th>\n",
       "      <th>ID Produto</th>\n",
       "      <th>ID Subcategoria</th>\n",
       "    </tr>\n",
       "    <tr>\n",
       "      <th>Nome do Produto</th>\n",
       "      <th></th>\n",
       "      <th></th>\n",
       "      <th></th>\n",
       "      <th></th>\n",
       "      <th></th>\n",
       "      <th></th>\n",
       "      <th></th>\n",
       "      <th></th>\n",
       "    </tr>\n",
       "  </thead>\n",
       "  <tbody>\n",
       "    <tr>\n",
       "      <th>Contoso Wireless Laser Mouse E50 Grey</th>\n",
       "      <td>Advanced 2.4 GHz cordless technology makes fre...</td>\n",
       "      <td>Contoso, Ltd</td>\n",
       "      <td>Contoso</td>\n",
       "      <td>Econômico</td>\n",
       "      <td>10,69</td>\n",
       "      <td>20,96</td>\n",
       "      <td>873</td>\n",
       "      <td>22</td>\n",
       "    </tr>\n",
       "    <tr>\n",
       "      <th>Contoso Optical Wheel OEM PS/2 Mouse E60 Grey</th>\n",
       "      <td>PS/2 mouse, 6 feet mouse cable</td>\n",
       "      <td>Contoso, Ltd</td>\n",
       "      <td>Contoso</td>\n",
       "      <td>Econômico</td>\n",
       "      <td>6,63</td>\n",
       "      <td>13</td>\n",
       "      <td>879</td>\n",
       "      <td>22</td>\n",
       "    </tr>\n",
       "    <tr>\n",
       "      <th>Contoso Optical Wheel OEM PS/2 Mouse E60 Black</th>\n",
       "      <td>PS/2 mouse, 6 feet mouse cable</td>\n",
       "      <td>Contoso, Ltd</td>\n",
       "      <td>Contoso</td>\n",
       "      <td>Econômico</td>\n",
       "      <td>6,63</td>\n",
       "      <td>13</td>\n",
       "      <td>880</td>\n",
       "      <td>22</td>\n",
       "    </tr>\n",
       "    <tr>\n",
       "      <th>Contoso Optical Wheel OEM PS/2 Mouse E60 White</th>\n",
       "      <td>PS/2 mouse, 6 feet mouse cable</td>\n",
       "      <td>Contoso, Ltd</td>\n",
       "      <td>Contoso</td>\n",
       "      <td>Econômico</td>\n",
       "      <td>6,63</td>\n",
       "      <td>13</td>\n",
       "      <td>881</td>\n",
       "      <td>22</td>\n",
       "    </tr>\n",
       "    <tr>\n",
       "      <th>Contoso Optical Wheel OEM PS/2 Mouse E60 Silver</th>\n",
       "      <td>PS/2 mouse, 6 feet mouse cable</td>\n",
       "      <td>Contoso, Ltd</td>\n",
       "      <td>Contoso</td>\n",
       "      <td>Econômico</td>\n",
       "      <td>6,63</td>\n",
       "      <td>13</td>\n",
       "      <td>882</td>\n",
       "      <td>22</td>\n",
       "    </tr>\n",
       "  </tbody>\n",
       "</table>\n",
       "</div>"
      ],
      "text/plain": [
       "                                                                              Descricao do Produto  \\\n",
       "Nome do Produto                                                                                      \n",
       "Contoso Wireless Laser Mouse E50 Grey            Advanced 2.4 GHz cordless technology makes fre...   \n",
       "Contoso Optical Wheel OEM PS/2 Mouse E60 Grey                       PS/2 mouse, 6 feet mouse cable   \n",
       "Contoso Optical Wheel OEM PS/2 Mouse E60 Black                      PS/2 mouse, 6 feet mouse cable   \n",
       "Contoso Optical Wheel OEM PS/2 Mouse E60 White                      PS/2 mouse, 6 feet mouse cable   \n",
       "Contoso Optical Wheel OEM PS/2 Mouse E60 Silver                     PS/2 mouse, 6 feet mouse cable   \n",
       "\n",
       "                                                   Fabricante Nome da Marca  \\\n",
       "Nome do Produto                                                               \n",
       "Contoso Wireless Laser Mouse E50 Grey            Contoso, Ltd       Contoso   \n",
       "Contoso Optical Wheel OEM PS/2 Mouse E60 Grey    Contoso, Ltd       Contoso   \n",
       "Contoso Optical Wheel OEM PS/2 Mouse E60 Black   Contoso, Ltd       Contoso   \n",
       "Contoso Optical Wheel OEM PS/2 Mouse E60 White   Contoso, Ltd       Contoso   \n",
       "Contoso Optical Wheel OEM PS/2 Mouse E60 Silver  Contoso, Ltd       Contoso   \n",
       "\n",
       "                                                      Tipo Custo Unitario  \\\n",
       "Nome do Produto                                                             \n",
       "Contoso Wireless Laser Mouse E50 Grey            Econômico          10,69   \n",
       "Contoso Optical Wheel OEM PS/2 Mouse E60 Grey    Econômico           6,63   \n",
       "Contoso Optical Wheel OEM PS/2 Mouse E60 Black   Econômico           6,63   \n",
       "Contoso Optical Wheel OEM PS/2 Mouse E60 White   Econômico           6,63   \n",
       "Contoso Optical Wheel OEM PS/2 Mouse E60 Silver  Econômico           6,63   \n",
       "\n",
       "                                                Preco Unitario  ID Produto  \\\n",
       "Nome do Produto                                                              \n",
       "Contoso Wireless Laser Mouse E50 Grey                    20,96         873   \n",
       "Contoso Optical Wheel OEM PS/2 Mouse E60 Grey               13         879   \n",
       "Contoso Optical Wheel OEM PS/2 Mouse E60 Black              13         880   \n",
       "Contoso Optical Wheel OEM PS/2 Mouse E60 White              13         881   \n",
       "Contoso Optical Wheel OEM PS/2 Mouse E60 Silver             13         882   \n",
       "\n",
       "                                                 ID Subcategoria  \n",
       "Nome do Produto                                                   \n",
       "Contoso Wireless Laser Mouse E50 Grey                         22  \n",
       "Contoso Optical Wheel OEM PS/2 Mouse E60 Grey                 22  \n",
       "Contoso Optical Wheel OEM PS/2 Mouse E60 Black                22  \n",
       "Contoso Optical Wheel OEM PS/2 Mouse E60 White                22  \n",
       "Contoso Optical Wheel OEM PS/2 Mouse E60 Silver               22  "
      ]
     },
     "metadata": {},
     "output_type": "display_data"
    }
   ],
   "source": [
    "novo_produtos_df = novo_produtos_df.set_index('Nome do Produto')\n",
    "display(novo_produtos_df.head())"
   ]
  },
  {
   "cell_type": "code",
   "execution_count": 18,
   "metadata": {
    "scrolled": true
   },
   "outputs": [
    {
     "name": "stdout",
     "output_type": "stream",
     "text": [
      "13\n",
      "13\n"
     ]
    }
   ],
   "source": [
    "#vamos pegar o preço produto Contoso Optical Wheel OEM PS/2 Mouse E60 Black\n",
    "#por loc\n",
    "print(novo_produtos_df.loc['Contoso Optical Wheel OEM PS/2 Mouse E60 Black', 'Preco Unitario'])\n",
    "#por iloc\n",
    "print(novo_produtos_df.iloc[2, 5])"
   ]
  },
  {
   "cell_type": "markdown",
   "metadata": {},
   "source": [
    "### A empresa decidiu aumentar o preço do produto ID 873 (Arquivos CSV\\Contoso Wireless Laser Mouse E50 Grey) para 23 reais. Como fazemos, para modificar isso na nossa base?"
   ]
  },
  {
   "cell_type": "code",
   "execution_count": null,
   "metadata": {},
   "outputs": [],
   "source": [
    "#novo_produtos_df.loc['Arquivos CSV\\Contoso Wireless Laser Mouse E50 Grey', 'Preco Unitario'] = 23\n",
    "novo_produtos_df.loc[novo_produtos_df['ID Produto'] == 873, 'Preco Unitario'] = 23\n",
    "display(novo_produtos_df.head())"
   ]
  }
 ],
 "metadata": {
  "kernelspec": {
   "display_name": "Python 3",
   "language": "python",
   "name": "python3"
  },
  "language_info": {
   "codemirror_mode": {
    "name": "ipython",
    "version": 3
   },
   "file_extension": ".py",
   "mimetype": "text/x-python",
   "name": "python",
   "nbconvert_exporter": "python",
   "pygments_lexer": "ipython3",
   "version": "3.10.10"
  }
 },
 "nbformat": 4,
 "nbformat_minor": 4
}
