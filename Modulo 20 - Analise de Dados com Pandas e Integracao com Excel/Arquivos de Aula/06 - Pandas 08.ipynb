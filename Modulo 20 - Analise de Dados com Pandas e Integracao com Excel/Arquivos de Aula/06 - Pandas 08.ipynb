{
 "cells": [
  {
   "cell_type": "markdown",
   "metadata": {},
   "source": [
    "- Preparando as bases de dados"
   ]
  },
  {
   "cell_type": "markdown",
   "metadata": {},
   "source": [
    "# Filtrando informações nos dataframes\n",
    "\n",
    "\n",
    "## Resumo\n",
    "\n",
    "Um dos grandes potenciais do pandas é para tratar condições.\n",
    "\n",
    "E a forma com que analisamos condições no dataframe é diferente do que já fizemos até agora no curso, vamos ver como funciona."
   ]
  },
  {
   "cell_type": "code",
   "execution_count": null,
   "metadata": {
    "scrolled": true
   },
   "outputs": [],
   "source": [
    "import pandas as pd\n",
    "#importando os arquivos\n",
    "vendas_df = pd.read_csv(r'Arquivos CSV\\Contoso - Vendas - 2017.csv', sep=';')\n",
    "produtos_df = pd.read_csv(r'Arquivos CSV\\Contoso - Cadastro Produtos.csv', sep=';', encoding='ISO-8859-1').rename(columns={'ÿNome do Produto': 'Nome do Produto'})\n",
    "lojas_df = pd.read_csv(r'Arquivos CSV\\Contoso - Lojas.csv', sep=';', encoding='ISO-8859-1').rename(columns={'ÿID Loja': 'ID Loja'})\n",
    "clientes_df = pd.read_csv(r'Arquivos CSV\\Contoso - Clientes.csv', sep=';', encoding='ISO-8859-1').rename(columns={'ÿID Cliente': 'ID Cliente'})\n",
    "\n",
    "#limpando apenas as colunas que queremos\n",
    "clientes_df = clientes_df[['ID Cliente', 'E-mail']]\n",
    "produtos_df = produtos_df[['ID Produto', 'Nome do Produto']]\n",
    "lojas_df = lojas_df[['ID Loja', 'Nome da Loja']]\n",
    "\n",
    "#mesclando e renomeando os dataframes\n",
    "vendas_df = vendas_df.merge(produtos_df, on='ID Produto')\n",
    "vendas_df = vendas_df.merge(lojas_df, on='ID Loja')\n",
    "vendas_df = vendas_df.merge(clientes_df, on='ID Cliente').rename(columns={'E-mail': 'E-mail do Cliente'})\n",
    "display(vendas_df)"
   ]
  },
  {
   "cell_type": "markdown",
   "metadata": {},
   "source": [
    "### Primeiro, vamos aplicar uma função normalmente. Qual o % das vendas que foi devolvido?\n",
    "\n",
    "- Para isso vamos somar as quantidades nas colunas correspondentes. Lembrando, o % vai ser: Total Devolvido / Total Vendido."
   ]
  },
  {
   "cell_type": "code",
   "execution_count": null,
   "metadata": {},
   "outputs": [],
   "source": [
    "qtde_vendida = vendas_df['Quantidade Vendida'].sum()\n",
    "qtde_devolvida = vendas_df['Quantidade Devolvida'].sum()\n",
    "\n",
    "print('{:.2%}'.format(qtde_devolvida / qtde_vendida))"
   ]
  },
  {
   "cell_type": "markdown",
   "metadata": {},
   "source": [
    "### Agora, se quisermos fazer a mesma análise apenas para 1 loja. Queremos filtrar apenas os itens da Loja Contoso Europe Online e saber o % de devolução dessa loja.\n",
    "\n",
    "- Para isso, vamos precisar filtrar. A forma de filtrar nos dataframes é uma \"simples\" comparação"
   ]
  },
  {
   "cell_type": "code",
   "execution_count": null,
   "metadata": {
    "scrolled": true
   },
   "outputs": [],
   "source": [
    "vendas_lojacontosoeuropeonline = vendas_df[vendas_df['ID Loja'] == 306]\n",
    "display(vendas_lojacontosoeuropeonline)\n",
    "qtde_vendida = vendas_lojacontosoeuropeonline['Quantidade Vendida'].sum()\n",
    "qtde_devolvida = vendas_lojacontosoeuropeonline['Quantidade Devolvida'].sum()\n",
    "print('{:.2%}'.format(qtde_devolvida / qtde_vendida))"
   ]
  },
  {
   "cell_type": "markdown",
   "metadata": {},
   "source": [
    "### Vamos fazer em 2 passos para entender certinho o que está acontecendo."
   ]
  },
  {
   "cell_type": "code",
   "execution_count": null,
   "metadata": {},
   "outputs": [],
   "source": [
    "#vendas_lojacontosoeuropeonline = vendas_df[vendas_df['ID Loja'] == 306]\n",
    "loja306 = vendas_df['ID Loja'] == 306\n",
    "vendas_lojacontosoeuropeonline = vendas_df[loja306]\n",
    "display(vendas_lojacontosoeuropeonline)"
   ]
  },
  {
   "cell_type": "markdown",
   "metadata": {},
   "source": [
    "### Desafio: e se eu quisesse criar uma tabela apenas com as vendas da Loja Contoso Europe Online e que não tiveram nenhuma devolução. Quero criar essa tabela e saber quantas vendas são.\n",
    "\n",
    "- Repare que nesse caso são 2 condições, como fazemos isso?"
   ]
  },
  {
   "cell_type": "code",
   "execution_count": null,
   "metadata": {},
   "outputs": [],
   "source": [
    "#tudo junto\n",
    "df_loja306semdev = vendas_df[(vendas_df['ID Loja'] == 306) & (vendas_df['Quantidade Devolvida'] == 0)]\n",
    "display(df_loja306semdev)\n",
    "\n",
    "#separado\n",
    "loja306 = vendas_df['ID Loja'] == 306\n",
    "qtde_devolvida_0 = vendas_df['Quantidade Devolvida'] == 0\n",
    "df2_loja306semdev = vendas_df[loja306 & qtde_devolvida_0]\n",
    "display(df2_loja306semdev)"
   ]
  }
 ],
 "metadata": {
  "kernelspec": {
   "display_name": "Python 3",
   "language": "python",
   "name": "python3"
  },
  "language_info": {
   "codemirror_mode": {
    "name": "ipython",
    "version": 3
   },
   "file_extension": ".py",
   "mimetype": "text/x-python",
   "name": "python",
   "nbconvert_exporter": "python",
   "pygments_lexer": "ipython3",
   "version": "3.10.10"
  }
 },
 "nbformat": 4,
 "nbformat_minor": 4
}
