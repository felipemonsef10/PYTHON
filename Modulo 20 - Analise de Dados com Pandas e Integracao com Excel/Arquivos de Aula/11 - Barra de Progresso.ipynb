{
 "cells": [
  {
   "cell_type": "markdown",
   "metadata": {},
   "source": [
    "## **E quando o nosso código demora muito? Será que travou? Quanto tempo vai demorar?**\n",
    "\n",
    "### **Biblioteca/Módulo tqdm**\n",
    "- Vamos importar os arquivos csv da Empresa Contoso e tratar como fizemos ao longo desse módulo"
   ]
  },
  {
   "cell_type": "code",
   "execution_count": null,
   "metadata": {},
   "outputs": [],
   "source": [
    "import pandas as pd\n",
    "import os\n",
    "\n",
    "#importando os arquivos\n",
    "vendas_df = pd.read_csv(r'Arquivos CSV\\Contoso - Vendas - 2017.csv', sep=';')\n",
    "produtos_df = pd.read_csv(r'Arquivos CSV\\Contoso - Cadastro Produtos.csv', sep=';', encoding='ISO-8859-1').rename(columns={'ÿNome do Produto': 'Nome do Produto'})\n",
    "lojas_df = pd.read_csv(r'Arquivos CSV\\Contoso - Lojas.csv', sep=';', encoding='ISO-8859-1').rename(columns={'ÿID Loja': 'ID Loja'})\n",
    "clientes_df = pd.read_csv(r'Arquivos CSV\\Contoso - Clientes.csv', sep=';', encoding='ISO-8859-1').rename(columns={'ÿID Cliente': 'ID Cliente'})\n",
    "\n",
    "#limpando apenas as colunas que queremos\n",
    "clientes_df = clientes_df[['ID Cliente', 'E-mail']]\n",
    "produtos_df = produtos_df[['ID Produto', 'Nome do Produto']]\n",
    "lojas_df = lojas_df[['ID Loja', 'Nome da Loja']]\n",
    "\n",
    "#mesclando e renomeando os dataframes\n",
    "vendas_df = vendas_df.merge(produtos_df, on='ID Produto')\n",
    "vendas_df = vendas_df.merge(lojas_df, on='ID Loja')\n",
    "vendas_df = vendas_df.merge(clientes_df, on='ID Cliente').rename(columns={'E-mail': 'E-mail do Cliente'})\n",
    "display(vendas_df)"
   ]
  },
  {
   "cell_type": "markdown",
   "metadata": {},
   "source": [
    "### **Agora imagine qua a Loja Contoso Roma (ID 222), para tentar burlar o sistema de metas, diminuiu 1 da quantidade devolvida de todas as vendas que ela teve. Descobrindo isso, precisamos ajeitar a base**\n",
    "\n",
    "- Farei com um for, principalmente por motivos didáticos, mas teríamos outras formas de fazer isso também."
   ]
  },
  {
   "cell_type": "code",
   "execution_count": null,
   "metadata": {},
   "outputs": [
    {
     "name": "stderr",
     "output_type": "stream",
     "text": [
      "100%|██████████| 980642/980642 [00:18<00:00, 305774.86it/s]"
     ]
    }
   ],
   "source": [
    "from tqdm import tqdm\n",
    "\n",
    "pbar = tqdm(total=len(vendas_df['ID Loja']), position=0, leave=True)\n",
    "\n",
    "for index, id_loja in enumerate(vendas_df['ID Loja']):\n",
    "    if id_loja == 222:\n",
    "        vendas_df.loc[index, 'Quantidade Devolvida'] += 1\n",
    "    pbar.update()\n",
    "\n",
    "vendas_df"
   ]
  }
 ],
 "metadata": {
  "kernelspec": {
   "display_name": "Python 3",
   "language": "python",
   "name": "python3"
  },
  "language_info": {
   "codemirror_mode": {
    "name": "ipython",
    "version": 3
   },
   "file_extension": ".py",
   "mimetype": "text/x-python",
   "name": "python",
   "nbconvert_exporter": "python",
   "pygments_lexer": "ipython3",
   "version": "3.10.10"
  }
 },
 "nbformat": 4,
 "nbformat_minor": 2
}
