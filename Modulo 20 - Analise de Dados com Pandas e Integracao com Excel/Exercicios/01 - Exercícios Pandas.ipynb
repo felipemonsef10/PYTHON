{
 "cells": [
  {
   "cell_type": "markdown",
   "metadata": {},
   "source": [
    "# Exercício - Mini Projeto de Análise de Dados\n",
    "\n",
    "Vamos fazer um exercício completo de pandas para um miniprojeto de análise de dados.\n",
    "\n",
    "Esse exercício vai obrigar a gente a usar boa parte dos conhecimento de pandas e até de outros módulos que já aprendemos ao longo do curso.\n",
    "\n",
    "### O que temos?\n",
    "\n",
    "Temos os dados de 2019 de uma empresa de prestação de serviços. \n",
    "\n",
    "- CadastroFuncionarios\n",
    "- CadastroClientes\n",
    "- BaseServiçosPrestados\n",
    "\n",
    "Obs1: Para ler arquivos csv, temos o read_csv<br>\n",
    "Obs2: Para ler arquivos xlsx (arquivos em excel normais, que não são padrão csv), temos o read_excel\n",
    "\n",
    "### O que queremos saber/fazer?\n",
    "\n",
    "1. Valor Total da Folha Salarial -> Qual foi o gasto total com salários de funcionários pela empresa? <br>\n",
    "    Sugestão: calcule o salário total de cada funcionário, salário + benefícios + impostos, depois some todos os salários\n",
    "    \n",
    "    \n",
    "2. Qual foi o faturamento da empresa?<br>\n",
    "    Sugestão: calcule o faturamento total de cada serviço e depois some o faturamento de todos\n",
    "    \n",
    "    \n",
    "3. Qual o % de funcionários que já fechou algum contrato?<br>\n",
    "    Sugestão: na base de serviços temos o funcionário que fechou cada serviço. Mas nem todos os funcionários que a empresa tem já fecharam algum serviço.<br>\n",
    "    . Na base de funcionários temos uma lista com todos os funcionários<br>\n",
    "    . Queremos calcular Qtde_Funcionarios_Fecharam_Serviço / Qtde_Funcionários_Totais<br>\n",
    "    . Para calcular a qtde de funcionários que fecharam algum serviço, use a base de serviços e conte quantos funcionários tem ali. Mas lembre-se, cada funcionário só pode ser contado uma única vez.<br><br>\n",
    "    Dica: se você aplicar o método .unique() em uma variável que é apenas 1 coluna de um dataframe, ele vai excluir todos os valores duplicados daquela coluna.<br>\n",
    "    Ex: unicos_colunaA = dataframe['colunaA'].unique() te dá como resposta uma lista com todos os itens da colunaA aparecendo uma única vez. Todos os valores repetidos da colunaA são excluidos da variável unicos_colunaA \n",
    "    \n",
    "    \n",
    "4. Calcule o total de contratos que cada área da empresa já fechou\n",
    "\n",
    "\n",
    "5. Calcule o total de funcionários por área\n",
    "\n",
    "\n",
    "6. Qual o ticket médio mensal (faturamento médio mensal) dos contratos?<br>\n",
    "    Dica: .mean() calcula a média -> exemplo: media_colunaA = dataframe['colunaA'].mean()\n",
    "\n",
    "Obs: Lembrando as opções mais usuais de encoding:<br>\n",
    "encoding='latin1', encoding='ISO-8859-1', encoding='utf-8' ou então encoding='cp1252'\n",
    "\n",
    "Observação Importante: Se o seu código der um erro na hora de importar os arquivos:<br>\n",
    "- CadastroClientes.csv\n",
    "- CadastroFuncionarios.csv\n",
    "\n",
    "Use separador \";\" (ponto e vírgula) para resolver"
   ]
  },
  {
   "cell_type": "markdown",
   "metadata": {},
   "source": [
    "#### **Importando as tabelas**"
   ]
  },
  {
   "cell_type": "code",
   "execution_count": null,
   "metadata": {},
   "outputs": [],
   "source": [
    "import pandas as pd\n",
    "\n",
    "print('df_clientes')\n",
    "df_clientes = pd.read_csv(r'Arquivos Base\\CadastroClientes.csv', sep=';')\n",
    "display(df_clientes.head(2))\n",
    "# print(df_clientes.info())\n",
    "\n",
    "print('df_funcionarios')\n",
    "df_funcionarios = pd.read_csv(r'Arquivos Base\\CadastroFuncionarios.csv', sep=';', decimal=',')\n",
    "display(df_funcionarios.head(2))\n",
    "# print(df_funcionarios.info())\n",
    "\n",
    "print('df_servicos_prestados')\n",
    "df_servicos_prestados = pd.read_excel(r'Arquivos Base\\BaseServiçosPrestados.xlsx')\n",
    "display(df_servicos_prestados.head(2))\n",
    "# print(df_servicos_prestados.info())"
   ]
  },
  {
   "cell_type": "markdown",
   "metadata": {},
   "source": [
    "#### **1 - Calculando a folha salarial**"
   ]
  },
  {
   "cell_type": "code",
   "execution_count": null,
   "metadata": {},
   "outputs": [],
   "source": [
    "folha_salarial = (df_funcionarios[['Impostos', 'Beneficios', 'VR']].sum()).sum()\n",
    "folha_salarial"
   ]
  },
  {
   "cell_type": "markdown",
   "metadata": {},
   "source": [
    "#### **2 - Calculando o faturamento**"
   ]
  },
  {
   "cell_type": "code",
   "execution_count": null,
   "metadata": {},
   "outputs": [],
   "source": [
    "faturamento = (pd.merge(df_servicos_prestados, df_clientes, on='ID Cliente')['Valor Contrato Mensal'] * pd.merge(df_servicos_prestados, df_clientes, on='ID Cliente')['Tempo Total de Contrato (Meses)']).sum()\n",
    "faturamento"
   ]
  },
  {
   "cell_type": "markdown",
   "metadata": {},
   "source": [
    "#### **3 - Calculando a % de funcinarios que fecharam contratos**"
   ]
  },
  {
   "cell_type": "code",
   "execution_count": null,
   "metadata": {},
   "outputs": [],
   "source": [
    "funcionarios_fecharam_contrato = round((len(df_servicos_prestados['ID Funcionário'].unique()) / len(df_funcionarios['ID Funcionário'].unique())) * 100, 2)\n",
    "funcionarios_fecharam_contrato"
   ]
  },
  {
   "cell_type": "markdown",
   "metadata": {},
   "source": [
    "#### **4 - Calculando o total de contratos que cada área fechou**"
   ]
  },
  {
   "cell_type": "code",
   "execution_count": null,
   "metadata": {},
   "outputs": [],
   "source": [
    "total_contratos_por_area = pd.merge(df_servicos_prestados, df_funcionarios, on='ID Funcionário')['Area'].value_counts()\n",
    "total_contratos_por_area"
   ]
  },
  {
   "cell_type": "markdown",
   "metadata": {},
   "source": [
    "#### **5 - Calculando o total de funcionário por área**"
   ]
  },
  {
   "cell_type": "code",
   "execution_count": null,
   "metadata": {},
   "outputs": [],
   "source": [
    "total_funcionario_por_area = df_funcionarios['Area'].value_counts()\n",
    "total_funcionario_por_area"
   ]
  },
  {
   "cell_type": "markdown",
   "metadata": {},
   "source": [
    "#### **6 - Calculando o tiket médio (média mensal) de faturamento dos contratos**"
   ]
  },
  {
   "cell_type": "code",
   "execution_count": null,
   "metadata": {},
   "outputs": [],
   "source": [
    "tiket_medio = round((df_servicos_prestados.merge(df_clientes, on='ID Cliente')['Tempo Total de Contrato (Meses)'] * df_servicos_prestados.merge(df_clientes, on='ID Cliente')['Valor Contrato Mensal']).mean(), 2)\n",
    "tiket_medio\n",
    "\n",
    "\n",
    "# df_clientes['Valor Contrato Mensal'].mean()"
   ]
  }
 ],
 "metadata": {
  "kernelspec": {
   "display_name": "Python 3",
   "language": "python",
   "name": "python3"
  },
  "language_info": {
   "codemirror_mode": {
    "name": "ipython",
    "version": 3
   },
   "file_extension": ".py",
   "mimetype": "text/x-python",
   "name": "python",
   "nbconvert_exporter": "python",
   "pygments_lexer": "ipython3",
   "version": "3.10.10"
  }
 },
 "nbformat": 4,
 "nbformat_minor": 4
}
