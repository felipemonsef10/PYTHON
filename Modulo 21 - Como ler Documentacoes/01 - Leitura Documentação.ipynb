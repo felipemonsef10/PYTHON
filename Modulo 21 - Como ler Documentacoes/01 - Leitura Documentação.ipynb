{
 "cells": [
  {
   "cell_type": "markdown",
   "id": "123826fb",
   "metadata": {},
   "source": [
    "#### Bibliotecas"
   ]
  },
  {
   "cell_type": "code",
   "execution_count": null,
   "id": "82a2576f",
   "metadata": {},
   "outputs": [],
   "source": [
    "# pandas -> analise de dados\n",
    "# getting started\n",
    "# quickstart\n",
    "import pandas as pd\n",
    "\n",
    "df = pd.DataFrame(\n",
    "    {\n",
    "        \"Name\": [\n",
    "            \"Braund, Mr. Owen Harris\",\n",
    "            \"Allen, Mr. William Henry\",\n",
    "            \"Bonnell, Miss. Elizabeth\",\n",
    "        ],\n",
    "        \"Age\": [22, 35, 58],\n",
    "        \"Sex\": [\"male\", \"male\", \"female\"],\n",
    "})\n",
    "\n",
    "\n",
    "display(df)\n",
    "print(df[\"Age\"])\n",
    "# pd.DataFrame\n",
    "# pd.DataFrame -> recebe um dicionário como parâmetro e cria a tabela a partir do dicionário"
   ]
  },
  {
   "cell_type": "code",
   "execution_count": null,
   "id": "efe3a6d4",
   "metadata": {},
   "outputs": [],
   "source": [
    "ages = pd.Series([22, 35, 58], name=\"Age\")\n",
    "\n",
    "print(df[\"Age\"].max())\n",
    "print(ages.max())"
   ]
  },
  {
   "cell_type": "code",
   "execution_count": null,
   "id": "87a2f0bd",
   "metadata": {},
   "outputs": [],
   "source": [
    "# requests\n",
    "#PyPI - Project Links na barra lateral\n",
    "#Read the docs -> documentação\n",
    "# Github -> ReadMe"
   ]
  },
  {
   "cell_type": "markdown",
   "id": "32c32351",
   "metadata": {},
   "source": [
    "#### Funções Específicas"
   ]
  },
  {
   "cell_type": "code",
   "execution_count": null,
   "id": "4b87a678",
   "metadata": {},
   "outputs": [],
   "source": [
    "# datas no pandas\n",
    "import pandas as pd\n",
    "\n",
    "tabela = pd.read_excel(r\"Dados Base\\Contratos.xlsx\")\n",
    "# display(tabela)\n",
    "print(tabela.dtypes)\n",
    "\n",
    "\n",
    "tabela['Data Pagamento'] = pd.to_datetime(tabela['Data Pagamento'], format='%d/%m/%Y')\n",
    "tabela['Data Pagamento 2'] = pd.to_datetime(tabela['Data Pagamento 2'], format='%m-%d-%y')\n",
    "# display(tabela)\n",
    "print(tabela.dtypes)"
   ]
  },
  {
   "cell_type": "code",
   "execution_count": null,
   "id": "f0d3ef4f",
   "metadata": {},
   "outputs": [],
   "source": [
    "# funcao merge do pandas\n",
    "\n",
    "emails = pd.read_excel(r\"Dados Base\\Emails.xlsx\")\n",
    "tabela = tabela.merge(emails, left_on=\"Cliente\", right_on=\"Nome\", how='inner')\n",
    "display(tabela)"
   ]
  },
  {
   "cell_type": "code",
   "execution_count": null,
   "id": "752a67cd",
   "metadata": {},
   "outputs": [],
   "source": [
    "# funcao datetime\n",
    "\n",
    "from datetime import datetime\n",
    "\n",
    "hoje = datetime(2022, 12, 15)\n",
    "print(hoje)"
   ]
  },
  {
   "cell_type": "markdown",
   "id": "bfe52010",
   "metadata": {},
   "source": [
    "#### APIs"
   ]
  },
  {
   "cell_type": "code",
   "execution_count": null,
   "id": "530eedde",
   "metadata": {},
   "outputs": [],
   "source": [
    "# documentação de APIs cada uma é diferente da outra, \n",
    "# vejam o módulo de API que eu faço vários exemplos lá\n",
    "\n",
    "# autenticação\n",
    "\n",
    "# exemplo sandbox https://dadosabertos.bcb.gov.br/dataset/dinheiro-em-circulao\n",
    "\n",
    "# exemplo documentação: https://www.alphavantage.co/\n",
    "\n",
    "import requests\n",
    "\n",
    "# replace the \"demo\" apikey below with your own key from https://www.alphavantage.co/support/#api-key\n",
    "url = 'https://www.alphavantage.co/query?function=TIME_SERIES_WEEKLY_ADJUSTED&symbol=IBM&apikey=dfsdhfsiufhsfuishfis'\n",
    "r = requests.get(url)\n",
    "data = r.json()\n",
    "\n",
    "data"
   ]
  },
  {
   "cell_type": "code",
   "execution_count": null,
   "id": "2b7b8054",
   "metadata": {},
   "outputs": [],
   "source": []
  }
 ],
 "metadata": {
  "kernelspec": {
   "display_name": "Python 3 (ipykernel)",
   "language": "python",
   "name": "python3"
  },
  "language_info": {
   "codemirror_mode": {
    "name": "ipython",
    "version": 3
   },
   "file_extension": ".py",
   "mimetype": "text/x-python",
   "name": "python",
   "nbconvert_exporter": "python",
   "pygments_lexer": "ipython3",
   "version": "3.10.10"
  }
 },
 "nbformat": 4,
 "nbformat_minor": 5
}
