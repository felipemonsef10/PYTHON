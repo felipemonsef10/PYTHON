{
 "cells": [
  {
   "cell_type": "markdown",
   "metadata": {},
   "source": [
    "# Módulo `time` em Python\n",
    "\n",
    "O módulo `time` em Python fornece uma variedade de funções para trabalhar com tempo. \n",
    "\n",
    "## time.time()\n",
    "\n",
    "A função `time()` retorna o tempo atual em segundos desde a Epoch (1º de janeiro de 1970).  "
   ]
  },
  {
   "cell_type": "code",
   "execution_count": null,
   "metadata": {},
   "outputs": [],
   "source": [
    "import time\n",
    "\n",
    "tempo_atual_segundos = time.time()\n",
    "\n",
    "print(f\"Tempo atual: {tempo_atual_segundos} segundos desde a Epoch\")"
   ]
  },
  {
   "cell_type": "code",
   "execution_count": null,
   "metadata": {},
   "outputs": [],
   "source": [
    "tempo_atual_nanosegundos = time.time_ns()\n",
    "\n",
    "print(f\"Tempo atual: {tempo_atual_nanosegundos} nanosegundos desde a Epoch\") "
   ]
  },
  {
   "cell_type": "code",
   "execution_count": null,
   "metadata": {},
   "outputs": [],
   "source": [
    "inicio = time.time()\n",
    "\n",
    "for i in range(100_000_000): # 10000000\n",
    "    pass\n",
    "\n",
    "fim = time.time()\n",
    "\n",
    "print(f\"Tempo decorrido: {fim - inicio} segundos\")"
   ]
  },
  {
   "cell_type": "markdown",
   "metadata": {
    "tags": []
   },
   "source": [
    "## time.sleep()\n",
    "\n",
    "A função `sleep()` faz o programa esperar pelo número de segundos especificado.\n",
    "\n"
   ]
  },
  {
   "cell_type": "code",
   "execution_count": null,
   "metadata": {},
   "outputs": [],
   "source": [
    "print(\"Iniciando a pausa\")\n",
    "time.sleep(5)  # Pausa o programa por 5 segundos\n",
    "print(\"Pausa terminada\")"
   ]
  },
  {
   "cell_type": "markdown",
   "metadata": {
    "tags": []
   },
   "source": [
    "## time.ctime()\n",
    "\n",
    "A função `ctime()` converte um tempo expresso em segundos desde a epoch em uma string representando o tempo local.\n",
    "\n"
   ]
  },
  {
   "cell_type": "code",
   "execution_count": null,
   "metadata": {},
   "outputs": [],
   "source": [
    "tempo_em_segundos = time.time()\n",
    "tempo_local = time.ctime(tempo_em_segundos)\n",
    "print(f\"Tempo local: {tempo_local}\")"
   ]
  },
  {
   "cell_type": "markdown",
   "metadata": {
    "tags": []
   },
   "source": [
    "## time.time() vs time.localtime()\n",
    "\n",
    "A função `time()` retorna o tempo atual em segundos desde a epoch. A função `localtime()` converte um tempo expresso em segundos desde a epoch em um objeto `struct_time`. Este objeto contém informações sobre o tempo local, como ano, mês, dia, hora, minuto, segundo, etc. A função `localtime()` usa o fuso horário local.\n"
   ]
  },
  {
   "cell_type": "code",
   "execution_count": null,
   "metadata": {},
   "outputs": [],
   "source": [
    "tempo_em_segundos = time.time()\n",
    "tempo_local = time.localtime(tempo_em_segundos)\n",
    "\n",
    "print(f\"Tempo local: {tempo_local}\")"
   ]
  },
  {
   "cell_type": "code",
   "execution_count": null,
   "metadata": {},
   "outputs": [],
   "source": [
    "print(tempo_local.tm_year)"
   ]
  },
  {
   "cell_type": "code",
   "execution_count": null,
   "metadata": {},
   "outputs": [],
   "source": [
    "print(tempo_local.tm_hour)"
   ]
  },
  {
   "cell_type": "code",
   "execution_count": null,
   "metadata": {},
   "outputs": [],
   "source": [
    "print(tempo_local.tm_mday)"
   ]
  },
  {
   "cell_type": "code",
   "execution_count": null,
   "metadata": {},
   "outputs": [],
   "source": [
    "# Dia da semana (0-6, 0 é segunda-feira, 6 é domingo). Documentação: https://docs.python.org/3/library/time.html#time.struct_time\n",
    "print(tempo_local.tm_wday)"
   ]
  },
  {
   "cell_type": "code",
   "execution_count": null,
   "metadata": {},
   "outputs": [],
   "source": [
    "# Dia do ano (1-366).\n",
    "print(tempo_local.tm_yday)"
   ]
  },
  {
   "cell_type": "code",
   "execution_count": null,
   "metadata": {},
   "outputs": [],
   "source": [
    "print(tempo_local.tm_zone)"
   ]
  },
  {
   "cell_type": "code",
   "execution_count": null,
   "metadata": {},
   "outputs": [],
   "source": [
    "print(time.time())\n",
    "print(time.ctime(time.time()))\n",
    "print(time.localtime())\n"
   ]
  }
 ],
 "metadata": {
  "kernelspec": {
   "display_name": "Python 3 (ipykernel)",
   "language": "python",
   "name": "python3"
  },
  "language_info": {
   "codemirror_mode": {
    "name": "ipython",
    "version": 3
   },
   "file_extension": ".py",
   "mimetype": "text/x-python",
   "name": "python",
   "nbconvert_exporter": "python",
   "pygments_lexer": "ipython3",
   "version": "3.10.10"
  },
  "toc-showtags": false
 },
 "nbformat": 4,
 "nbformat_minor": 4
}
