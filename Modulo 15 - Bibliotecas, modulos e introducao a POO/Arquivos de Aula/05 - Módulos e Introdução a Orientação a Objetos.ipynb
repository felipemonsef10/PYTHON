{
 "cells": [
  {
   "cell_type": "markdown",
   "metadata": {},
   "source": [
    "# Como instalar um Módulo/Biblioteca que não tenha no seu computador\n",
    "\n",
    "### Estrutura:\n",
    "\n",
    "- Usaremos o \"pip\" para isso. É um gerenciador de módulos/pacotes/bibliotecas que ajuda a gente a instalar, atualizar, desinstalar novos módulos\n",
    "- Não precisa dominar pip, apenas os comandos que vamos usar aqui mesmo\n",
    "\n",
    "Passo 1: Abrir o Prompt do Anaconda<br>\n",
    "Passo 2: Instalar com o pip os pacotes que quiser<br>\n",
    "Passo 3: Reiniciar o Jupyter (nem sempre necessário, mas na dúvida é melhor fazer)<br>"
   ]
  },
  {
   "cell_type": "code",
   "execution_count": 9,
   "metadata": {},
   "outputs": [],
   "source": [
    "import keyboard\n",
    "from time import sleep\n",
    "\n",
    "keyboard.press_and_release('win')\n",
    "sleep(1)\n",
    "\n",
    "# keyboard.write('chrome')\n",
    "# sleep(1)\n",
    "\n",
    "# keyboard.press_and_release('enter')\n",
    "# sleep(1)\n",
    "\n",
    "# keyboard.write('hashtagtreinamentos.com')\n",
    "\n",
    "# keyboard.press_and_release('enter')"
   ]
  },
  {
   "cell_type": "code",
   "execution_count": 1,
   "metadata": {},
   "outputs": [
    {
     "name": "stdout",
     "output_type": "stream",
     "text": [
      "Collecting keyboard\n",
      "  Downloading keyboard-0.13.5-py3-none-any.whl (58 kB)\n",
      "     -------------------------------------- 58.1/58.1 kB 439.1 kB/s eta 0:00:00\n",
      "Installing collected packages: keyboard\n",
      "Successfully installed keyboard-0.13.5\n",
      "Note: you may need to restart the kernel to use updated packages.\n"
     ]
    },
    {
     "name": "stderr",
     "output_type": "stream",
     "text": [
      "\n",
      "[notice] A new release of pip available: 22.3.1 -> 23.3.2\n",
      "[notice] To update, run: python.exe -m pip install --upgrade pip\n"
     ]
    }
   ],
   "source": [
    "%pip install keyboard"
   ]
  }
 ],
 "metadata": {
  "kernelspec": {
   "display_name": "Python 3",
   "language": "python",
   "name": "python3"
  },
  "language_info": {
   "codemirror_mode": {
    "name": "ipython",
    "version": 3
   },
   "file_extension": ".py",
   "mimetype": "text/x-python",
   "name": "python",
   "nbconvert_exporter": "python",
   "pygments_lexer": "ipython3",
   "version": "3.10.10"
  }
 },
 "nbformat": 4,
 "nbformat_minor": 4
}
