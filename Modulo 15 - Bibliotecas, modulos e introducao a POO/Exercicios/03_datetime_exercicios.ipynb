{
 "cells": [
  {
   "cell_type": "markdown",
   "metadata": {},
   "source": [
    "## Oferecendo desconto para cliente com base na última compra\n",
    "\n",
    "Suponha que você está trabalhando para uma empresa que deseja rastrear a atividade do cliente. Uma métrica que eles estão interessados é o tempo que passou desde a última transação do cliente. Se for muito tempo, eles podem oferecer um desconto para o cliente. Crie um script Python que mostra quanto tempo se passou desde a última compra do cliente. Se faz mais de 30 dias, mostre uma mensagem oferecendo um desconto para o cliente."
   ]
  },
  {
   "cell_type": "code",
   "execution_count": null,
   "metadata": {},
   "outputs": [],
   "source": [
    "from datetime import datetime, date\n",
    "\n",
    "data_atual = date.today()\n",
    "\n",
    "formato = '%d/%m/%Y'\n",
    "# data_ultima_compra_str = str(input('Data da última compra [XX/XX/XXXX]: '))\n",
    "# data_ultima_compra_date = datetime.strptime(data_ultima_compra_str, formato).date()\n",
    "\n",
    "data_ultima_compra_date = datetime(2023, 5, 30).date()\n",
    "\n",
    "diferenca = data_atual - data_ultima_compra_date\n",
    "\n",
    "if diferenca.days > 30:\n",
    "    print(f'Sentimos sua falta, notamos que a sua última compra foi em {data_ultima_compra_date.strftime(\"%d/%m/%Y\")}, \\npor isso, preparamos um desconto de 15% para você, venha resgatar!')\n"
   ]
  },
  {
   "cell_type": "markdown",
   "metadata": {},
   "source": [
    "## Data e hora em diferentes fusos horários\n",
    "\n",
    "Uma empresa tem escritórios em São Paulo, Nova York e Tóquio. Crie um script Python que mostra a data e hora atuais nesses três fusos horários. Exiba, também, se estes escritórios estão abertos ou fechados (9h às 17h).\n"
   ]
  },
  {
   "cell_type": "code",
   "execution_count": null,
   "metadata": {},
   "outputs": [],
   "source": [
    "from datetime import datetime\n",
    "import pytz\n",
    "\n",
    "data_atual_local = datetime.now()\n",
    "\n",
    "fuso_horario_sp = pytz.timezone('America/Sao_Paulo')\n",
    "data_atual_sp = data_atual_local.astimezone(fuso_horario_sp)\n",
    "\n",
    "fuso_horario_tokyo = pytz.timezone('Asia/Tokyo')\n",
    "data_atual_tokyo = data_atual_local.astimezone(fuso_horario_tokyo)\n",
    "\n",
    "fuso_horario_ny = pytz.timezone('America/New_York')\n",
    "data_atual_ny = data_atual_local.astimezone(fuso_horario_ny)\n",
    "\n",
    "# print(data_atual_local)\n",
    "\n",
    "inicio_funcionamento, fim_funcionamento = (datetime(2000, 1, 1, 9, 0, 0).time(), datetime(2000, 1, 1, 17, 0, 0).time())\n",
    "\n",
    "print('Horário de funcionamento do escritório:')\n",
    "print('-' * 30)\n",
    "print('\\t09:00 às 17:00')\n",
    "print('-' * 30)\n",
    "\n",
    "print('\\nHorário atual em SP:')\n",
    "print(data_atual_sp.strftime('%H:%M'))\n",
    "if inicio_funcionamento <= data_atual_sp.time() < fim_funcionamento:\n",
    "      print('Situação: Aberto')\n",
    "else:\n",
    "      print('Situação: Fechado')\n",
    "\n",
    "print('\\nHorário atual em Tokyo:')\n",
    "print(data_atual_tokyo.strftime('%H:%M'))\n",
    "if inicio_funcionamento <= data_atual_tokyo.time() < fim_funcionamento:\n",
    "      print('Situação: Aberto')\n",
    "else:\n",
    "      print('Situação: Fechado')\n",
    "\n",
    "print('\\nHorário atual em NY:')\n",
    "print(data_atual_ny.strftime('%H:%M'))\n",
    "if inicio_funcionamento <= data_atual_ny.time() < fim_funcionamento:\n",
    "      print('Situação: Aberto')\n",
    "else:\n",
    "      print('Situação: Fechado')"
   ]
  }
 ],
 "metadata": {
  "kernelspec": {
   "display_name": "Python 3 (ipykernel)",
   "language": "python",
   "name": "python3"
  },
  "language_info": {
   "codemirror_mode": {
    "name": "ipython",
    "version": 3
   },
   "file_extension": ".py",
   "mimetype": "text/x-python",
   "name": "python",
   "nbconvert_exporter": "python",
   "pygments_lexer": "ipython3",
   "version": "3.10.10"
  }
 },
 "nbformat": 4,
 "nbformat_minor": 4
}
