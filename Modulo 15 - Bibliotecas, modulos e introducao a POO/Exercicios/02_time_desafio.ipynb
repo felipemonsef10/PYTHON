{
 "cells": [
  {
   "cell_type": "markdown",
   "metadata": {},
   "source": [
    "## Tempo até o próximo ano\n",
    "\n",
    "Crie um script Python que calcula quantos dias, horas, minutos e segundos faltam até o próximo Ano Novo.\n",
    "\n"
   ]
  },
  {
   "cell_type": "markdown",
   "metadata": {
    "tags": []
   },
   "source": [
    "Lembrar da tupla de struct_time: https://docs.python.org/3/library/time.html#time.struct_time"
   ]
  },
  {
   "cell_type": "code",
   "execution_count": 10,
   "metadata": {
    "tags": []
   },
   "outputs": [
    {
     "name": "stdout",
     "output_type": "stream",
     "text": [
      "Segundos em um minuto: 60 s\n",
      "Segundos em uma hora: 3600 s\n",
      "Segundos em um dia: 86400 s\n"
     ]
    }
   ],
   "source": [
    "# lembrando\n",
    "\n",
    "segundos_por_minuto = 60\n",
    "segundos_por_hora = 60 * 60\n",
    "segundos_por_dia = 24 * 60 * 60\n",
    "\n",
    "print(f\"Segundos em um minuto: {segundos_por_minuto} s\")\n",
    "print(f\"Segundos em uma hora: {segundos_por_hora} s\")\n",
    "print(f\"Segundos em um dia: {segundos_por_dia} s\")"
   ]
  },
  {
   "cell_type": "markdown",
   "metadata": {
    "tags": []
   },
   "source": [
    "Lembrando de divisão:\n",
    "\n",
    "![divisao](https://escolaeducacao.com.br/wp-content/uploads/2020/01/algoritmo-divisao.png)"
   ]
  },
  {
   "cell_type": "code",
   "execution_count": 15,
   "metadata": {},
   "outputs": [
    {
     "name": "stdout",
     "output_type": "stream",
     "text": [
      "Faltam: 343 dias, 9 horas, 25, minutos e 47, segundos para 01/01/2025!\n"
     ]
    }
   ],
   "source": [
    "import time\n",
    "\n",
    "tempo_atual = time.localtime()\n",
    "tempo_atual_em_segundos = time.mktime(tempo_atual)\n",
    "\n",
    "tempo_ano_novo = (tempo_atual.tm_year + 1, 1, 1, 0, 0, 0, 0, 0, 0)\n",
    "tempo_ano_novo_em_segundos = time.mktime(tempo_ano_novo)\n",
    "\n",
    "segundos_restantes = int(tempo_ano_novo_em_segundos - tempo_atual_em_segundos)\n",
    "\n",
    "\n",
    "dias, resto_segundos = divmod(segundos_restantes, segundos_por_dia)\n",
    "horas, resto_segundos = divmod(resto_segundos, segundos_por_hora)\n",
    "minutos, segundos = divmod(resto_segundos, segundos_por_minuto)\n",
    "\n",
    "\n",
    "print(f'Faltam: {dias} dias, {horas} horas, {minutos}, minutos e {segundos}, segundos para 01/01/{tempo_atual.tm_year + 1}!')\n",
    "\n"
   ]
  },
  {
   "cell_type": "markdown",
   "metadata": {},
   "source": [
    "### Minha Resolução"
   ]
  },
  {
   "cell_type": "markdown",
   "metadata": {},
   "source": [
    "1 min   -----   60 seg\n",
    "1 hor   -----   60 min\n",
    "\n",
    "1 hor   -----   60 * 60 = 3600 seg\n",
    "1 dia   -----   24 hor = 24 * 3600 = 86400 seg\n",
    "\n",
    "\n",
    "1 dia = 86400 seg"
   ]
  },
  {
   "cell_type": "code",
   "execution_count": 18,
   "metadata": {},
   "outputs": [
    {
     "name": "stdout",
     "output_type": "stream",
     "text": [
      "Faltam: 343 dias, 9 horas, 24 minutos e 5 segundos para 2025\n"
     ]
    }
   ],
   "source": [
    "import time\n",
    "\n",
    "time_atual_em_segundos = time.time()\n",
    "\n",
    "# print(time_atual_em_segundos)\n",
    "\n",
    "struct_time_proximo_ano_novo = time.strptime('01/01/2025, 00:00', '%d/%m/%Y, %H:%M')\n",
    "\n",
    "time_proximo_ano_novo_em_segundos = time.mktime(struct_time_proximo_ano_novo)\n",
    "\n",
    "# print(time_proximo_ano_novo_em_segundos)\n",
    "\n",
    "dia_em_segundos = 86400\n",
    "hora_em_segundos = 3600\n",
    "min_em_segundos = 60\n",
    "\n",
    "tempo_que_falta_em_segundos = round(time_proximo_ano_novo_em_segundos - time_atual_em_segundos, 0)\n",
    "\n",
    "dias_que_faltam = int(tempo_que_falta_em_segundos // dia_em_segundos)\n",
    "horas_que_faltam = int((tempo_que_falta_em_segundos % dia_em_segundos) // hora_em_segundos)\n",
    "minutos_que_faltam = int(((tempo_que_falta_em_segundos % dia_em_segundos) % hora_em_segundos) // min_em_segundos)\n",
    "segundos_que_faltam = int(((tempo_que_falta_em_segundos % dia_em_segundos) % hora_em_segundos) % min_em_segundos)\n",
    "\n",
    "# print(tempo_que_falta_em_segundos)\n",
    "print(f'Faltam: {dias_que_faltam} dias, {horas_que_faltam} horas, {minutos_que_faltam} minutos e {segundos_que_faltam} segundos para {time.localtime().tm_year + 1}')"
   ]
  }
 ],
 "metadata": {
  "kernelspec": {
   "display_name": "Python 3 (ipykernel)",
   "language": "python",
   "name": "python3"
  },
  "language_info": {
   "codemirror_mode": {
    "name": "ipython",
    "version": 3
   },
   "file_extension": ".py",
   "mimetype": "text/x-python",
   "name": "python",
   "nbconvert_exporter": "python",
   "pygments_lexer": "ipython3",
   "version": "3.10.10"
  }
 },
 "nbformat": 4,
 "nbformat_minor": 4
}
