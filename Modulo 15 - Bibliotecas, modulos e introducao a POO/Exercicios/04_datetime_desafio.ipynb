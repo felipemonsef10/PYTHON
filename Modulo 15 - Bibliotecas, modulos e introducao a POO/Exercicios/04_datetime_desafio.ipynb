{
 "cells": [
  {
   "cell_type": "markdown",
   "metadata": {},
   "source": [
    "## Calculando a idade\n",
    "\n",
    "Um usuário fornece sua data de nascimento no formato \"dd/mm/aaaa\". Crie um script Python que calcula a idade do usuário.\n"
   ]
  },
  {
   "cell_type": "code",
   "execution_count": 16,
   "metadata": {},
   "outputs": [
    {
     "name": "stdout",
     "output_type": "stream",
     "text": [
      "A sua idade é: 23 anos.\n"
     ]
    }
   ],
   "source": [
    "from datetime import datetime, date\n",
    "\n",
    "formato_data = '%d/%m/%Y'\n",
    "ano_em_dias = 365\n",
    "data_nascimento_str = str(input('Data de nascimento (dd/mm/yyyy): '))\n",
    "# data_nascimento_str = '15/06/2005'\n",
    "data_nascimento_date = datetime.strptime(data_nascimento_str, formato_data).date()\n",
    "\n",
    "data_atual_date = date.today()\n",
    "\n",
    "idade = int((data_atual_date - data_nascimento_date).days / ano_em_dias)\n",
    "\n",
    "# print(data_atual_date)\n",
    "# print(data_nascimento_date)\n",
    "print(f'A sua idade é: {idade} anos.')"
   ]
  }
 ],
 "metadata": {
  "kernelspec": {
   "display_name": "Python 3 (ipykernel)",
   "language": "python",
   "name": "python3"
  },
  "language_info": {
   "codemirror_mode": {
    "name": "ipython",
    "version": 3
   },
   "file_extension": ".py",
   "mimetype": "text/x-python",
   "name": "python",
   "nbconvert_exporter": "python",
   "pygments_lexer": "ipython3",
   "version": "3.10.10"
  }
 },
 "nbformat": 4,
 "nbformat_minor": 4
}
