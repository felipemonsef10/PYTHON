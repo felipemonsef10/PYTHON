{
 "cells": [
  {
   "cell_type": "markdown",
   "metadata": {},
   "source": [
    "## Contagem regressiva\n",
    "\n",
    "Um evento especial está programado para começar em 10 segundos. Crie uma contagem regressiva que começa em 10 e vai até 0, com uma pausa de um segundo entre cada número.\n"
   ]
  },
  {
   "cell_type": "markdown",
   "metadata": {},
   "source": [
    " "
   ]
  },
  {
   "cell_type": "code",
   "execution_count": 33,
   "metadata": {},
   "outputs": [
    {
     "name": "stdout",
     "output_type": "stream",
     "text": [
      "INICIANDO CONTAGEM...\n",
      "FIM DA CONTAGEM!\n"
     ]
    }
   ],
   "source": [
    "import time\n",
    "\n",
    "print('INICIANDO CONTAGEM...')\n",
    "time.sleep(1)\n",
    "\n",
    "for c in range(10, -1, -1):\n",
    "    print(c, end=' \\r')\n",
    "    time.sleep(1)\n",
    "\n",
    "print('FIM DA CONTAGEM!')\n",
    "\n",
    "\n",
    "\n",
    "# def contagem(inicio_contagem, fim_contagem, intervalo_em_segundos=1, regressiva=True):\n",
    "#     if regressiva == True:\n",
    "#         print('CONTAGEM REGRESSIVA...')\n",
    "#         time.sleep(1)\n",
    "#         for c in range(inicio_contagem, (fim_contagem - 1), -1):\n",
    "#             print(c)\n",
    "#             time.sleep(intervalo_em_segundos)\n",
    "\n",
    "#     else:\n",
    "#         print('CONTAGEM PROGRESSIVA...')\n",
    "#         time.sleep(1)\n",
    "#         for c in range(inicio_contagem, fim_contagem + 1):\n",
    "#             print(c)\n",
    "#             time.sleep(intervalo_em_segundos)\n",
    "\n",
    "#     print('FIM DA CONTAGEM!')\n",
    "\n",
    "# inicio_contagem = 0\n",
    "# fim_contagem = 10\n",
    "\n",
    "# contagem(inicio_contagem, fim_contagem, regressiva=False)\n",
    "\n"
   ]
  },
  {
   "cell_type": "markdown",
   "metadata": {},
   "source": [
    "## Formatação de tempo\n",
    "\n",
    "Uma empresa quer exibir a data e a hora atual em seu site no formato \"Dia da semana, dia do mês de mês de ano, horas:minutos\". Crie um script Python que mostra a data e a hora atuais neste formato.\n",
    "\n"
   ]
  },
  {
   "cell_type": "code",
   "execution_count": 5,
   "metadata": {},
   "outputs": [
    {
     "name": "stdout",
     "output_type": "stream",
     "text": [
      "terça-feira, 23 de janeiro de 2024, 13:40\n"
     ]
    }
   ],
   "source": [
    "import locale\n",
    "import time\n",
    "\n",
    "locale.setlocale(locale.LC_ALL, 'pt_BR.UTF-8')\n",
    "\n",
    "struct_time_atual = time.localtime()\n",
    "time_atual_formatado = time.strftime('%A, %d de %B de %Y, %H:%M', struct_time_atual)\n",
    "\n",
    "\n",
    "print(time_atual_formatado)"
   ]
  }
 ],
 "metadata": {
  "kernelspec": {
   "display_name": "Python 3 (ipykernel)",
   "language": "python",
   "name": "python3"
  },
  "language_info": {
   "codemirror_mode": {
    "name": "ipython",
    "version": 3
   },
   "file_extension": ".py",
   "mimetype": "text/x-python",
   "name": "python",
   "nbconvert_exporter": "python",
   "pygments_lexer": "ipython3",
   "version": "3.10.11"
  }
 },
 "nbformat": 4,
 "nbformat_minor": 4
}
