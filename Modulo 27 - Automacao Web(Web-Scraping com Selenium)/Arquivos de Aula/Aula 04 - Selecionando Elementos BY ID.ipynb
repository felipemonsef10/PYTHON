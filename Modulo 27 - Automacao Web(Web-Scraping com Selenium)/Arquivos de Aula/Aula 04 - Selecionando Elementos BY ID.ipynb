{
 "cells": [
  {
   "cell_type": "code",
   "execution_count": 17,
   "id": "4e28f9f7",
   "metadata": {},
   "outputs": [],
   "source": [
    "from selenium import webdriver\n",
    "from selenium.webdriver.chrome.service import Service\n",
    "from webdriver_manager.chrome import ChromeDriverManager\n",
    "\n",
    "servico = Service(ChromeDriverManager().install())\n",
    "navegador = webdriver.Chrome(service=servico)"
   ]
  },
  {
   "cell_type": "code",
   "execution_count": 18,
   "id": "59c8398d",
   "metadata": {},
   "outputs": [],
   "source": [
    "import os\n",
    "\n",
    "caminho = os.getcwd()\n",
    "arquivo = caminho + r\"\\Pagina Hashtag.html\"\n",
    "navegador.get(arquivo)"
   ]
  },
  {
   "cell_type": "code",
   "execution_count": 19,
   "id": "25228a28",
   "metadata": {},
   "outputs": [],
   "source": [
    "from selenium.webdriver.common.by import By\n",
    "\n",
    "navegador.find_element(By.ID, 'fullname').send_keys(\"Lira\")"
   ]
  },
  {
   "cell_type": "code",
   "execution_count": null,
   "id": "72d296d0",
   "metadata": {},
   "outputs": [],
   "source": [
    "navegador.find_element(By.ID, 'email').send_keys(\"pythonimpressionador@gmail.com\")"
   ]
  },
  {
   "cell_type": "code",
   "execution_count": null,
   "id": "c768ffbb",
   "metadata": {},
   "outputs": [],
   "source": [
    "# navegador.find_element(By.ID, '_form_176_submit').click()"
   ]
  }
 ],
 "metadata": {
  "kernelspec": {
   "display_name": "Python 3 (ipykernel)",
   "language": "python",
   "name": "python3"
  },
  "language_info": {
   "codemirror_mode": {
    "name": "ipython",
    "version": 3
   },
   "file_extension": ".py",
   "mimetype": "text/x-python",
   "name": "python",
   "nbconvert_exporter": "python",
   "pygments_lexer": "ipython3",
   "version": "3.10.10"
  }
 },
 "nbformat": 4,
 "nbformat_minor": 5
}
