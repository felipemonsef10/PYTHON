{
 "cells": [
  {
   "cell_type": "markdown",
   "metadata": {},
   "source": [
    "# Exercícios\n",
    "\n",
    "## 1. Faturamento do Melhor e do Pior Mês do Ano\n",
    "\n",
    "Qual foi o valor de vendas do melhor mês do Ano?\n",
    "E valor do pior mês do ano?"
   ]
  },
  {
   "cell_type": "code",
   "execution_count": null,
   "metadata": {},
   "outputs": [],
   "source": [
    "meses = ['jan', 'fev', 'mar', 'abr', 'mai', 'jun', 'jul', 'ago', 'set', 'out', 'nov', 'dez']\n",
    "vendas_1sem = [25000, 29000, 22200, 17750, 15870, 19900]\n",
    "vendas_2sem = [19850, 20120, 17540, 15555, 49051, 9650]\n",
    "\n",
    "vendas_1sem.extend(vendas_2sem)\n",
    "\n",
    "mlhr_mes = max(vendas_1sem)\n",
    "pior_mes = min(vendas_1sem)\n",
    "\n",
    "print('O valor de vendas do melhor mês foi de {} e \\no valor de vendas do pior mês foi {}.'.format(mlhr_mes, pior_mes))"
   ]
  },
  {
   "cell_type": "markdown",
   "metadata": {},
   "source": [
    "## 2. Continuação\n",
    "\n",
    "Agora relacione as duas listas para printar 'O melhor mês do ano foi {} com {} vendas' e o mesmo para o pior mês do ano.\n",
    "\n",
    "Calcule também o faturamento total do Ano e quanto que o melhor mês representou do faturamento total.\n",
    "\n",
    "Obs: Para o faturamento total, pode usar a função sum(lista) que soma todos os itens de uma lista"
   ]
  },
  {
   "cell_type": "code",
   "execution_count": null,
   "metadata": {},
   "outputs": [],
   "source": [
    "i_melhor_mes = vendas_1sem.index(mlhr_mes)\n",
    "i_pior_mes = vendas_1sem.index(pior_mes)\n",
    "\n",
    "print('O melhor mês do ano foi o {} com {} vendas'.format(meses[i_melhor_mes], mlhr_mes))\n",
    "print('O pior mês do ano foi o {} com {} vendas.'.format(meses[i_pior_mes], pior_mes))\n",
    "\n",
    "fat_tot = sum(vendas_1sem)\n",
    "print('O faturamento Total: R${:,.2f}'.format(fat_tot))\n",
    "\n",
    "perc = mlhr_mes / fat_tot\n",
    "print('O melhor mês representou {:.1%} do faturamento total.'.format(perc))"
   ]
  },
  {
   "cell_type": "markdown",
   "metadata": {},
   "source": [
    "## 3. Crie uma lista com o top 3 valores de vendas do ano (sem fazer \"no olho\")\n",
    "\n",
    "Dica: o método remove retira um item da lista."
   ]
  },
  {
   "cell_type": "code",
   "execution_count": 34,
   "metadata": {},
   "outputs": [
    {
     "name": "stdout",
     "output_type": "stream",
     "text": [
      "['jan', 'fev', 'mar', 'abr', 'mai', 'jun', 'jul', 'ago', 'set', 'out', 'nov', 'dez']\n",
      "[25000, 29000, 22200, 17750, 15870, 19900, 19850, 20120, 17540, 15555, 49051, 9650]\n",
      "['nov', 'fev', 'jan']\n"
     ]
    }
   ],
   "source": [
    "print(meses)\n",
    "print(vendas_1sem)\n",
    "\n",
    "vendas_copia = vendas_1sem.copy()\n",
    "vendas_copia.sort()\n",
    "\n",
    "top3 = []\n",
    "\n",
    "top3.append(meses[vendas_1sem.index(vendas_copia[-1])])\n",
    "top3.append(meses[vendas_1sem.index(vendas_copia[-2])])\n",
    "top3.append(meses[vendas_1sem.index(vendas_copia[-3])])\n",
    "\n",
    "print(top3)\n"
   ]
  }
 ],
 "metadata": {
  "kernelspec": {
   "display_name": "Python 3",
   "language": "python",
   "name": "python3"
  },
  "language_info": {
   "codemirror_mode": {
    "name": "ipython",
    "version": 3
   },
   "file_extension": ".py",
   "mimetype": "text/x-python",
   "name": "python",
   "nbconvert_exporter": "python",
   "pygments_lexer": "ipython3",
   "version": "3.10.10"
  }
 },
 "nbformat": 4,
 "nbformat_minor": 4
}
